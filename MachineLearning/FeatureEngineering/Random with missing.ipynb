{
 "cells": [
  {
   "cell_type": "code",
   "execution_count": 1,
   "id": "7297e20e",
   "metadata": {},
   "outputs": [],
   "source": [
    "import pandas as pd\n",
    "import seaborn as sns\n",
    "from sklearn.model_selection import train_test_split"
   ]
  },
  {
   "cell_type": "code",
   "execution_count": 2,
   "id": "e5517682",
   "metadata": {},
   "outputs": [],
   "source": [
    "df=pd.read_csv(\"titanic.csv\",usecols=['Age','Fare','Survived'])"
   ]
  },
  {
   "cell_type": "code",
   "execution_count": 3,
   "id": "60d70663",
   "metadata": {},
   "outputs": [
    {
     "data": {
      "text/html": [
       "<div>\n",
       "<style scoped>\n",
       "    .dataframe tbody tr th:only-of-type {\n",
       "        vertical-align: middle;\n",
       "    }\n",
       "\n",
       "    .dataframe tbody tr th {\n",
       "        vertical-align: top;\n",
       "    }\n",
       "\n",
       "    .dataframe thead th {\n",
       "        text-align: right;\n",
       "    }\n",
       "</style>\n",
       "<table border=\"1\" class=\"dataframe\">\n",
       "  <thead>\n",
       "    <tr style=\"text-align: right;\">\n",
       "      <th></th>\n",
       "      <th>Survived</th>\n",
       "      <th>Age</th>\n",
       "      <th>Fare</th>\n",
       "    </tr>\n",
       "  </thead>\n",
       "  <tbody>\n",
       "    <tr>\n",
       "      <th>0</th>\n",
       "      <td>0</td>\n",
       "      <td>34.5</td>\n",
       "      <td>7.8292</td>\n",
       "    </tr>\n",
       "    <tr>\n",
       "      <th>1</th>\n",
       "      <td>1</td>\n",
       "      <td>47.0</td>\n",
       "      <td>7.0000</td>\n",
       "    </tr>\n",
       "    <tr>\n",
       "      <th>2</th>\n",
       "      <td>0</td>\n",
       "      <td>62.0</td>\n",
       "      <td>9.6875</td>\n",
       "    </tr>\n",
       "    <tr>\n",
       "      <th>3</th>\n",
       "      <td>0</td>\n",
       "      <td>27.0</td>\n",
       "      <td>8.6625</td>\n",
       "    </tr>\n",
       "    <tr>\n",
       "      <th>4</th>\n",
       "      <td>1</td>\n",
       "      <td>22.0</td>\n",
       "      <td>12.2875</td>\n",
       "    </tr>\n",
       "  </tbody>\n",
       "</table>\n",
       "</div>"
      ],
      "text/plain": [
       "   Survived   Age     Fare\n",
       "0         0  34.5   7.8292\n",
       "1         1  47.0   7.0000\n",
       "2         0  62.0   9.6875\n",
       "3         0  27.0   8.6625\n",
       "4         1  22.0  12.2875"
      ]
     },
     "execution_count": 3,
     "metadata": {},
     "output_type": "execute_result"
    }
   ],
   "source": [
    "df.head()"
   ]
  },
  {
   "cell_type": "code",
   "execution_count": 4,
   "id": "522945ea",
   "metadata": {},
   "outputs": [
    {
     "data": {
      "text/plain": [
       "30.272590361445783"
      ]
     },
     "execution_count": 4,
     "metadata": {},
     "output_type": "execute_result"
    }
   ],
   "source": [
    "df['Age'].mean()"
   ]
  },
  {
   "cell_type": "code",
   "execution_count": 5,
   "id": "ab184d1b",
   "metadata": {},
   "outputs": [
    {
     "data": {
      "text/plain": [
       "Survived     0.000000\n",
       "Age         20.574163\n",
       "Fare         0.239234\n",
       "dtype: float64"
      ]
     },
     "execution_count": 5,
     "metadata": {},
     "output_type": "execute_result"
    }
   ],
   "source": [
    "df.isnull().mean()*100"
   ]
  },
  {
   "cell_type": "code",
   "execution_count": 6,
   "id": "5f531111",
   "metadata": {},
   "outputs": [],
   "source": [
    "x=df.drop(columns='Survived')\n",
    "y=df['Survived']"
   ]
  },
  {
   "cell_type": "code",
   "execution_count": 7,
   "id": "fbebcb11",
   "metadata": {},
   "outputs": [],
   "source": [
    "x_train,x_test,y_train,y_test= train_test_split(x,y,test_size=0.2,random_state=2)"
   ]
  },
  {
   "cell_type": "code",
   "execution_count": 8,
   "id": "c62d6e4d",
   "metadata": {},
   "outputs": [],
   "source": [
    "x_train['Age_imputed']=x_train['Age']\n",
    "x_test['Age_imputed']=x_test['Age']"
   ]
  },
  {
   "cell_type": "code",
   "execution_count": 9,
   "id": "0590632a",
   "metadata": {},
   "outputs": [
    {
     "data": {
      "text/html": [
       "<div>\n",
       "<style scoped>\n",
       "    .dataframe tbody tr th:only-of-type {\n",
       "        vertical-align: middle;\n",
       "    }\n",
       "\n",
       "    .dataframe tbody tr th {\n",
       "        vertical-align: top;\n",
       "    }\n",
       "\n",
       "    .dataframe thead th {\n",
       "        text-align: right;\n",
       "    }\n",
       "</style>\n",
       "<table border=\"1\" class=\"dataframe\">\n",
       "  <thead>\n",
       "    <tr style=\"text-align: right;\">\n",
       "      <th></th>\n",
       "      <th>Age</th>\n",
       "      <th>Fare</th>\n",
       "      <th>Age_imputed</th>\n",
       "    </tr>\n",
       "  </thead>\n",
       "  <tbody>\n",
       "    <tr>\n",
       "      <th>146</th>\n",
       "      <td>NaN</td>\n",
       "      <td>51.8625</td>\n",
       "      <td>NaN</td>\n",
       "    </tr>\n",
       "    <tr>\n",
       "      <th>223</th>\n",
       "      <td>21.0</td>\n",
       "      <td>7.7958</td>\n",
       "      <td>21.0</td>\n",
       "    </tr>\n",
       "    <tr>\n",
       "      <th>193</th>\n",
       "      <td>61.0</td>\n",
       "      <td>12.3500</td>\n",
       "      <td>61.0</td>\n",
       "    </tr>\n",
       "    <tr>\n",
       "      <th>305</th>\n",
       "      <td>64.0</td>\n",
       "      <td>26.5500</td>\n",
       "      <td>64.0</td>\n",
       "    </tr>\n",
       "    <tr>\n",
       "      <th>188</th>\n",
       "      <td>NaN</td>\n",
       "      <td>69.5500</td>\n",
       "      <td>NaN</td>\n",
       "    </tr>\n",
       "  </tbody>\n",
       "</table>\n",
       "</div>"
      ],
      "text/plain": [
       "      Age     Fare  Age_imputed\n",
       "146   NaN  51.8625          NaN\n",
       "223  21.0   7.7958         21.0\n",
       "193  61.0  12.3500         61.0\n",
       "305  64.0  26.5500         64.0\n",
       "188   NaN  69.5500          NaN"
      ]
     },
     "execution_count": 9,
     "metadata": {},
     "output_type": "execute_result"
    }
   ],
   "source": [
    "x_test.head()"
   ]
  },
  {
   "cell_type": "code",
   "execution_count": 10,
   "id": "9a6083a5",
   "metadata": {},
   "outputs": [],
   "source": [
    "x_train['Age_imputed'][x_train['Age_imputed'].isnull()]=x_train['Age'].dropna().sample(x_train['Age'].isnull().sum()).values\n",
    "x_test['Age_imputed'][x_test['Age_imputed'].isnull()]=x_train['Age'].dropna().sample(x_test['Age'].isnull().sum()).values"
   ]
  },
  {
   "cell_type": "code",
   "execution_count": 11,
   "id": "dc8dd3ae",
   "metadata": {},
   "outputs": [
    {
     "name": "stderr",
     "output_type": "stream",
     "text": [
      "C:\\Users\\Surya Reddy\\AppData\\Local\\Temp\\ipykernel_9872\\2477327225.py:1: UserWarning: \n",
      "\n",
      "`distplot` is a deprecated function and will be removed in seaborn v0.14.0.\n",
      "\n",
      "Please adapt your code to use either `displot` (a figure-level function with\n",
      "similar flexibility) or `kdeplot` (an axes-level function for kernel density plots).\n",
      "\n",
      "For a guide to updating your code to use the new functions, please see\n",
      "https://gist.github.com/mwaskom/de44147ed2974457ad6372750bbe5751\n",
      "\n",
      "  sns.distplot(x_train['Age'],label='Original',hist=False)\n",
      "C:\\Users\\Surya Reddy\\AppData\\Local\\Temp\\ipykernel_9872\\2477327225.py:2: UserWarning: \n",
      "\n",
      "`distplot` is a deprecated function and will be removed in seaborn v0.14.0.\n",
      "\n",
      "Please adapt your code to use either `displot` (a figure-level function with\n",
      "similar flexibility) or `kdeplot` (an axes-level function for kernel density plots).\n",
      "\n",
      "For a guide to updating your code to use the new functions, please see\n",
      "https://gist.github.com/mwaskom/de44147ed2974457ad6372750bbe5751\n",
      "\n",
      "  sns.distplot(x_train['Age_imputed'],label='Imputed',hist=False)\n"
     ]
    },
    {
     "data": {
      "text/plain": [
       "<Axes: xlabel='Age_imputed', ylabel='Density'>"
      ]
     },
     "execution_count": 11,
     "metadata": {},
     "output_type": "execute_result"
    },
    {
     "data": {
      "image/png": "[encoded data removed]",
      "text/plain": [
       "<Figure size 640x480 with 1 Axes>"
      ]
     },
     "metadata": {},
     "output_type": "display_data"
    }
   ],
   "source": [
    "sns.distplot(x_train['Age'],label='Original',hist=False)\n",
    "sns.distplot(x_train['Age_imputed'],label='Imputed',hist=False)"
   ]
  },
  {
   "cell_type": "code",
   "execution_count": 12,
   "id": "a52fe0a5",
   "metadata": {},
   "outputs": [
    {
     "data": {
      "text/plain": [
       "72"
      ]
     },
     "execution_count": 12,
     "metadata": {},
     "output_type": "execute_result"
    }
   ],
   "source": [
    "x_train['Age'].isnull().sum()"
   ]
  },
  {
   "cell_type": "code",
   "execution_count": 13,
   "id": "d954ffdd",
   "metadata": {},
   "outputs": [
    {
     "data": {
      "text/plain": [
       "0"
      ]
     },
     "execution_count": 13,
     "metadata": {},
     "output_type": "execute_result"
    }
   ],
   "source": [
    "x_train['Age_imputed'].isnull().sum()"
   ]
  },
  {
   "cell_type": "code",
   "execution_count": 14,
   "id": "bc60e91c",
   "metadata": {},
   "outputs": [
    {
     "data": {
      "text/html": [
       "<div>\n",
       "<style scoped>\n",
       "    .dataframe tbody tr th:only-of-type {\n",
       "        vertical-align: middle;\n",
       "    }\n",
       "\n",
       "    .dataframe tbody tr th {\n",
       "        vertical-align: top;\n",
       "    }\n",
       "\n",
       "    .dataframe thead th {\n",
       "        text-align: right;\n",
       "    }\n",
       "</style>\n",
       "<table border=\"1\" class=\"dataframe\">\n",
       "  <thead>\n",
       "    <tr style=\"text-align: right;\">\n",
       "      <th></th>\n",
       "      <th>Fare</th>\n",
       "      <th>Age</th>\n",
       "      <th>Age_imputed</th>\n",
       "    </tr>\n",
       "  </thead>\n",
       "  <tbody>\n",
       "    <tr>\n",
       "      <th>Fare</th>\n",
       "      <td>2333.007047</td>\n",
       "      <td>216.034928</td>\n",
       "      <td>173.913051</td>\n",
       "    </tr>\n",
       "    <tr>\n",
       "      <th>Age</th>\n",
       "      <td>216.034928</td>\n",
       "      <td>184.704030</td>\n",
       "      <td>184.704030</td>\n",
       "    </tr>\n",
       "    <tr>\n",
       "      <th>Age_imputed</th>\n",
       "      <td>173.913051</td>\n",
       "      <td>184.704030</td>\n",
       "      <td>191.615476</td>\n",
       "    </tr>\n",
       "  </tbody>\n",
       "</table>\n",
       "</div>"
      ],
      "text/plain": [
       "                    Fare         Age  Age_imputed\n",
       "Fare         2333.007047  216.034928   173.913051\n",
       "Age           216.034928  184.704030   184.704030\n",
       "Age_imputed   173.913051  184.704030   191.615476"
      ]
     },
     "execution_count": 14,
     "metadata": {},
     "output_type": "execute_result"
    }
   ],
   "source": [
    "x_train[['Fare','Age','Age_imputed']].cov()"
   ]
  },
  {
   "cell_type": "code",
   "execution_count": 15,
   "id": "53455488",
   "metadata": {},
   "outputs": [
    {
     "data": {
      "text/plain": [
       "<Axes: >"
      ]
     },
     "execution_count": 15,
     "metadata": {},
     "output_type": "execute_result"
    },
    {
     "data": {
      "image/png": "[encoded data removed]",
      "text/plain": [
       "<Figure size 640x480 with 1 Axes>"
      ]
     },
     "metadata": {},
     "output_type": "display_data"
    }
   ],
   "source": [
    "x_train[['Age','Age_imputed']].boxplot()"
   ]
  },
  {
   "cell_type": "code",
   "execution_count": 16,
   "id": "e31a1076",
   "metadata": {},
   "outputs": [],
   "source": [
    "data=pd.read_csv('AdvanceHousePricePredicition_train.csv',usecols=['GarageQual','FireplaceQu','SalePrice'])"
   ]
  },
  {
   "cell_type": "code",
   "execution_count": 17,
   "id": "98de1de3",
   "metadata": {},
   "outputs": [
    {
     "data": {
      "text/html": [
       "<div>\n",
       "<style scoped>\n",
       "    .dataframe tbody tr th:only-of-type {\n",
       "        vertical-align: middle;\n",
       "    }\n",
       "\n",
       "    .dataframe tbody tr th {\n",
       "        vertical-align: top;\n",
       "    }\n",
       "\n",
       "    .dataframe thead th {\n",
       "        text-align: right;\n",
       "    }\n",
       "</style>\n",
       "<table border=\"1\" class=\"dataframe\">\n",
       "  <thead>\n",
       "    <tr style=\"text-align: right;\">\n",
       "      <th></th>\n",
       "      <th>FireplaceQu</th>\n",
       "      <th>GarageQual</th>\n",
       "      <th>SalePrice</th>\n",
       "    </tr>\n",
       "  </thead>\n",
       "  <tbody>\n",
       "    <tr>\n",
       "      <th>0</th>\n",
       "      <td>NaN</td>\n",
       "      <td>TA</td>\n",
       "      <td>208500</td>\n",
       "    </tr>\n",
       "    <tr>\n",
       "      <th>1</th>\n",
       "      <td>TA</td>\n",
       "      <td>TA</td>\n",
       "      <td>181500</td>\n",
       "    </tr>\n",
       "    <tr>\n",
       "      <th>2</th>\n",
       "      <td>TA</td>\n",
       "      <td>TA</td>\n",
       "      <td>223500</td>\n",
       "    </tr>\n",
       "    <tr>\n",
       "      <th>3</th>\n",
       "      <td>Gd</td>\n",
       "      <td>TA</td>\n",
       "      <td>140000</td>\n",
       "    </tr>\n",
       "    <tr>\n",
       "      <th>4</th>\n",
       "      <td>TA</td>\n",
       "      <td>TA</td>\n",
       "      <td>250000</td>\n",
       "    </tr>\n",
       "  </tbody>\n",
       "</table>\n",
       "</div>"
      ],
      "text/plain": [
       "  FireplaceQu GarageQual  SalePrice\n",
       "0         NaN         TA     208500\n",
       "1          TA         TA     181500\n",
       "2          TA         TA     223500\n",
       "3          Gd         TA     140000\n",
       "4          TA         TA     250000"
      ]
     },
     "execution_count": 17,
     "metadata": {},
     "output_type": "execute_result"
    }
   ],
   "source": [
    "data.head()"
   ]
  },
  {
   "cell_type": "code",
   "execution_count": 18,
   "id": "bef379de",
   "metadata": {},
   "outputs": [
    {
     "data": {
      "text/plain": [
       "FireplaceQu    47.260274\n",
       "GarageQual      5.547945\n",
       "SalePrice       0.000000\n",
       "dtype: float64"
      ]
     },
     "execution_count": 18,
     "metadata": {},
     "output_type": "execute_result"
    }
   ],
   "source": [
    "data.isnull().mean()*100"
   ]
  },
  {
   "cell_type": "code",
   "execution_count": 19,
   "id": "3e6de458",
   "metadata": {},
   "outputs": [],
   "source": [
    "x=data\n",
    "y=data['SalePrice']"
   ]
  },
  {
   "cell_type": "code",
   "execution_count": 20,
   "id": "8a0bf5c6",
   "metadata": {},
   "outputs": [],
   "source": [
    "x_train,x_test,y_train,y_test= train_test_split(x,y,test_size=0.2,random_state=2)"
   ]
  },
  {
   "cell_type": "code",
   "execution_count": 21,
   "id": "ec4183fb",
   "metadata": {},
   "outputs": [
    {
     "data": {
      "text/html": [
       "<div>\n",
       "<style scoped>\n",
       "    .dataframe tbody tr th:only-of-type {\n",
       "        vertical-align: middle;\n",
       "    }\n",
       "\n",
       "    .dataframe tbody tr th {\n",
       "        vertical-align: top;\n",
       "    }\n",
       "\n",
       "    .dataframe thead th {\n",
       "        text-align: right;\n",
       "    }\n",
       "</style>\n",
       "<table border=\"1\" class=\"dataframe\">\n",
       "  <thead>\n",
       "    <tr style=\"text-align: right;\">\n",
       "      <th></th>\n",
       "      <th>FireplaceQu</th>\n",
       "      <th>GarageQual</th>\n",
       "      <th>SalePrice</th>\n",
       "    </tr>\n",
       "  </thead>\n",
       "  <tbody>\n",
       "    <tr>\n",
       "      <th>455</th>\n",
       "      <td>TA</td>\n",
       "      <td>TA</td>\n",
       "      <td>175500</td>\n",
       "    </tr>\n",
       "    <tr>\n",
       "      <th>863</th>\n",
       "      <td>NaN</td>\n",
       "      <td>TA</td>\n",
       "      <td>132500</td>\n",
       "    </tr>\n",
       "    <tr>\n",
       "      <th>504</th>\n",
       "      <td>Fa</td>\n",
       "      <td>TA</td>\n",
       "      <td>147000</td>\n",
       "    </tr>\n",
       "    <tr>\n",
       "      <th>1413</th>\n",
       "      <td>Gd</td>\n",
       "      <td>TA</td>\n",
       "      <td>257000</td>\n",
       "    </tr>\n",
       "    <tr>\n",
       "      <th>1389</th>\n",
       "      <td>Gd</td>\n",
       "      <td>TA</td>\n",
       "      <td>131000</td>\n",
       "    </tr>\n",
       "    <tr>\n",
       "      <th>...</th>\n",
       "      <td>...</td>\n",
       "      <td>...</td>\n",
       "      <td>...</td>\n",
       "    </tr>\n",
       "    <tr>\n",
       "      <th>466</th>\n",
       "      <td>Po</td>\n",
       "      <td>TA</td>\n",
       "      <td>167000</td>\n",
       "    </tr>\n",
       "    <tr>\n",
       "      <th>299</th>\n",
       "      <td>Gd</td>\n",
       "      <td>TA</td>\n",
       "      <td>158500</td>\n",
       "    </tr>\n",
       "    <tr>\n",
       "      <th>493</th>\n",
       "      <td>Fa</td>\n",
       "      <td>TA</td>\n",
       "      <td>155000</td>\n",
       "    </tr>\n",
       "    <tr>\n",
       "      <th>527</th>\n",
       "      <td>Gd</td>\n",
       "      <td>TA</td>\n",
       "      <td>446261</td>\n",
       "    </tr>\n",
       "    <tr>\n",
       "      <th>1192</th>\n",
       "      <td>NaN</td>\n",
       "      <td>TA</td>\n",
       "      <td>125000</td>\n",
       "    </tr>\n",
       "  </tbody>\n",
       "</table>\n",
       "<p>1168 rows × 3 columns</p>\n",
       "</div>"
      ],
      "text/plain": [
       "     FireplaceQu GarageQual  SalePrice\n",
       "455           TA         TA     175500\n",
       "863          NaN         TA     132500\n",
       "504           Fa         TA     147000\n",
       "1413          Gd         TA     257000\n",
       "1389          Gd         TA     131000\n",
       "...          ...        ...        ...\n",
       "466           Po         TA     167000\n",
       "299           Gd         TA     158500\n",
       "493           Fa         TA     155000\n",
       "527           Gd         TA     446261\n",
       "1192         NaN         TA     125000\n",
       "\n",
       "[1168 rows x 3 columns]"
      ]
     },
     "execution_count": 21,
     "metadata": {},
     "output_type": "execute_result"
    }
   ],
   "source": [
    "x_train"
   ]
  },
  {
   "cell_type": "code",
   "execution_count": 22,
   "id": "41bef477",
   "metadata": {},
   "outputs": [],
   "source": [
    "x_train['GarageQual_imputed']=x_train['GarageQual']\n",
    "x_test['GarageQual_imputed']=x_test['GarageQual']"
   ]
  },
  {
   "cell_type": "code",
   "execution_count": 23,
   "id": "24234043",
   "metadata": {},
   "outputs": [
    {
     "name": "stderr",
     "output_type": "stream",
     "text": [
      "C:\\Users\\Surya Reddy\\AppData\\Local\\Temp\\ipykernel_9872\\1615457777.py:1: SettingWithCopyWarning: \n",
      "A value is trying to be set on a copy of a slice from a DataFrame\n",
      "\n",
      "See the caveats in the documentation: https://pandas.pydata.org/pandas-docs/stable/user_guide/indexing.html#returning-a-view-versus-a-copy\n",
      "  x_train['GarageQual_imputed'][x_train['GarageQual_imputed'].isnull()]= x_train['GarageQual'].dropna().sample(x_train['GarageQual_imputed'].isnull().sum()).values\n",
      "C:\\Users\\Surya Reddy\\AppData\\Local\\Temp\\ipykernel_9872\\1615457777.py:2: SettingWithCopyWarning: \n",
      "A value is trying to be set on a copy of a slice from a DataFrame\n",
      "\n",
      "See the caveats in the documentation: https://pandas.pydata.org/pandas-docs/stable/user_guide/indexing.html#returning-a-view-versus-a-copy\n",
      "  x_test['GarageQual_imputed'][x_test['GarageQual_imputed'].isnull()]= x_train['GarageQual'].dropna().sample(x_test['GarageQual_imputed'].isnull().sum()).values\n"
     ]
    }
   ],
   "source": [
    "x_train['GarageQual_imputed'][x_train['GarageQual_imputed'].isnull()]= x_train['GarageQual'].dropna().sample(x_train['GarageQual_imputed'].isnull().sum()).values\n",
    "x_test['GarageQual_imputed'][x_test['GarageQual_imputed'].isnull()]= x_train['GarageQual'].dropna().sample(x_test['GarageQual_imputed'].isnull().sum()).values"
   ]
  },
  {
   "cell_type": "code",
   "execution_count": 25,
   "id": "8d9da0f3",
   "metadata": {},
   "outputs": [],
   "source": [
    "x_train['FireplaceQu_imputed']=x_train['FireplaceQu']\n",
    "x_test['FireplaceQu_imputed']=x_test['FireplaceQu']"
   ]
  },
  {
   "cell_type": "code",
   "execution_count": 28,
   "id": "9871d495",
   "metadata": {},
   "outputs": [
    {
     "name": "stderr",
     "output_type": "stream",
     "text": [
      "C:\\Users\\Surya Reddy\\AppData\\Local\\Temp\\ipykernel_9872\\534067933.py:1: SettingWithCopyWarning: \n",
      "A value is trying to be set on a copy of a slice from a DataFrame\n",
      "\n",
      "See the caveats in the documentation: https://pandas.pydata.org/pandas-docs/stable/user_guide/indexing.html#returning-a-view-versus-a-copy\n",
      "  x_train['FireplaceQu_imputed'][x_train['FireplaceQu_imputed'].isnull()] = x_train['FireplaceQu'].dropna().sample(x_train['FireplaceQu_imputed'].isnull().sum()).values\n",
      "C:\\Users\\Surya Reddy\\AppData\\Local\\Temp\\ipykernel_9872\\534067933.py:2: SettingWithCopyWarning: \n",
      "A value is trying to be set on a copy of a slice from a DataFrame\n",
      "\n",
      "See the caveats in the documentation: https://pandas.pydata.org/pandas-docs/stable/user_guide/indexing.html#returning-a-view-versus-a-copy\n",
      "  x_test['FireplaceQu_imputed'][x_test['FireplaceQu_imputed'].isnull()]=x_test['FireplaceQu'].dropna().sample(x_test['FireplaceQu_imputed'].isnull().sum()).values\n"
     ]
    }
   ],
   "source": [
    "x_train['FireplaceQu_imputed'][x_train['FireplaceQu_imputed'].isnull()] = x_train['FireplaceQu'].dropna().sample(x_train['FireplaceQu_imputed'].isnull().sum()).values\n",
    "x_test['FireplaceQu_imputed'][x_test['FireplaceQu_imputed'].isnull()]=x_test['FireplaceQu'].dropna().sample(x_test['FireplaceQu_imputed'].isnull().sum()).values                                                                 "
   ]
  },
  {
   "cell_type": "code",
   "execution_count": 29,
   "id": "fa280c45",
   "metadata": {},
   "outputs": [
    {
     "data": {
      "text/plain": [
       "0"
      ]
     },
     "execution_count": 29,
     "metadata": {},
     "output_type": "execute_result"
    }
   ],
   "source": [
    "x_train['GarageQual_imputed'].isnull().sum()"
   ]
  },
  {
   "cell_type": "code",
   "execution_count": 30,
   "id": "f1f393b2",
   "metadata": {},
   "outputs": [],
   "source": [
    "temp=pd.concat(\n",
    "    [\n",
    "        x_train['GarageQual'].value_counts()/len(x_train['GarageQual'].dropna()),\n",
    "                                                        x_train['GarageQual_imputed'].value_counts()/len(x_train)],axis=1)"
   ]
  },
  {
   "cell_type": "code",
   "execution_count": 31,
   "id": "bb49599c",
   "metadata": {},
   "outputs": [
    {
     "data": {
      "text/html": [
       "<div>\n",
       "<style scoped>\n",
       "    .dataframe tbody tr th:only-of-type {\n",
       "        vertical-align: middle;\n",
       "    }\n",
       "\n",
       "    .dataframe tbody tr th {\n",
       "        vertical-align: top;\n",
       "    }\n",
       "\n",
       "    .dataframe thead th {\n",
       "        text-align: right;\n",
       "    }\n",
       "</style>\n",
       "<table border=\"1\" class=\"dataframe\">\n",
       "  <thead>\n",
       "    <tr style=\"text-align: right;\">\n",
       "      <th></th>\n",
       "      <th>GarageQual</th>\n",
       "      <th>GarageQual_imputed</th>\n",
       "    </tr>\n",
       "  </thead>\n",
       "  <tbody>\n",
       "    <tr>\n",
       "      <th>TA</th>\n",
       "      <td>0.951043</td>\n",
       "      <td>0.952055</td>\n",
       "    </tr>\n",
       "    <tr>\n",
       "      <th>Fa</th>\n",
       "      <td>0.037171</td>\n",
       "      <td>0.036815</td>\n",
       "    </tr>\n",
       "    <tr>\n",
       "      <th>Gd</th>\n",
       "      <td>0.009973</td>\n",
       "      <td>0.009418</td>\n",
       "    </tr>\n",
       "    <tr>\n",
       "      <th>Po</th>\n",
       "      <td>0.000907</td>\n",
       "      <td>0.000856</td>\n",
       "    </tr>\n",
       "    <tr>\n",
       "      <th>Ex</th>\n",
       "      <td>0.000907</td>\n",
       "      <td>0.000856</td>\n",
       "    </tr>\n",
       "  </tbody>\n",
       "</table>\n",
       "</div>"
      ],
      "text/plain": [
       "    GarageQual  GarageQual_imputed\n",
       "TA    0.951043            0.952055\n",
       "Fa    0.037171            0.036815\n",
       "Gd    0.009973            0.009418\n",
       "Po    0.000907            0.000856\n",
       "Ex    0.000907            0.000856"
      ]
     },
     "execution_count": 31,
     "metadata": {},
     "output_type": "execute_result"
    }
   ],
   "source": [
    "temp"
   ]
  },
  {
   "cell_type": "code",
   "execution_count": null,
   "id": "b4b6b511",
   "metadata": {},
   "outputs": [],
   "source": []
  },
  {
   "cell_type": "code",
   "execution_count": 32,
   "id": "b18d56ac",
   "metadata": {},
   "outputs": [],
   "source": [
    "import numpy as np\n",
    "import pandas as pd\n",
    "from sklearn.model_selection import train_test_split\n",
    "from sklearn.impute import MissingIndicator,SimpleImputer"
   ]
  },
  {
   "cell_type": "code",
   "execution_count": 33,
   "id": "43f77265",
   "metadata": {},
   "outputs": [],
   "source": [
    "df=pd.read_csv('titanic.csv',usecols=['Age','Fare','Survived'])"
   ]
  },
  {
   "cell_type": "code",
   "execution_count": 34,
   "id": "14504d3a",
   "metadata": {},
   "outputs": [
    {
     "data": {
      "text/html": [
       "<div>\n",
       "<style scoped>\n",
       "    .dataframe tbody tr th:only-of-type {\n",
       "        vertical-align: middle;\n",
       "    }\n",
       "\n",
       "    .dataframe tbody tr th {\n",
       "        vertical-align: top;\n",
       "    }\n",
       "\n",
       "    .dataframe thead th {\n",
       "        text-align: right;\n",
       "    }\n",
       "</style>\n",
       "<table border=\"1\" class=\"dataframe\">\n",
       "  <thead>\n",
       "    <tr style=\"text-align: right;\">\n",
       "      <th></th>\n",
       "      <th>Survived</th>\n",
       "      <th>Age</th>\n",
       "      <th>Fare</th>\n",
       "    </tr>\n",
       "  </thead>\n",
       "  <tbody>\n",
       "    <tr>\n",
       "      <th>0</th>\n",
       "      <td>0</td>\n",
       "      <td>34.5</td>\n",
       "      <td>7.8292</td>\n",
       "    </tr>\n",
       "    <tr>\n",
       "      <th>1</th>\n",
       "      <td>1</td>\n",
       "      <td>47.0</td>\n",
       "      <td>7.0000</td>\n",
       "    </tr>\n",
       "    <tr>\n",
       "      <th>2</th>\n",
       "      <td>0</td>\n",
       "      <td>62.0</td>\n",
       "      <td>9.6875</td>\n",
       "    </tr>\n",
       "    <tr>\n",
       "      <th>3</th>\n",
       "      <td>0</td>\n",
       "      <td>27.0</td>\n",
       "      <td>8.6625</td>\n",
       "    </tr>\n",
       "    <tr>\n",
       "      <th>4</th>\n",
       "      <td>1</td>\n",
       "      <td>22.0</td>\n",
       "      <td>12.2875</td>\n",
       "    </tr>\n",
       "  </tbody>\n",
       "</table>\n",
       "</div>"
      ],
      "text/plain": [
       "   Survived   Age     Fare\n",
       "0         0  34.5   7.8292\n",
       "1         1  47.0   7.0000\n",
       "2         0  62.0   9.6875\n",
       "3         0  27.0   8.6625\n",
       "4         1  22.0  12.2875"
      ]
     },
     "execution_count": 34,
     "metadata": {},
     "output_type": "execute_result"
    }
   ],
   "source": [
    "df.head()"
   ]
  },
  {
   "cell_type": "code",
   "execution_count": 35,
   "id": "23cf8cb5",
   "metadata": {},
   "outputs": [
    {
     "data": {
      "text/plain": [
       "Survived     0.000000\n",
       "Age         20.574163\n",
       "Fare         0.239234\n",
       "dtype: float64"
      ]
     },
     "execution_count": 35,
     "metadata": {},
     "output_type": "execute_result"
    }
   ],
   "source": [
    "df.isnull().mean()*100"
   ]
  },
  {
   "cell_type": "code",
   "execution_count": 36,
   "id": "5ba0d8c4",
   "metadata": {},
   "outputs": [],
   "source": [
    "x=df.drop(columns=['Survived'])\n",
    "y=df['Survived']"
   ]
  },
  {
   "cell_type": "code",
   "execution_count": 37,
   "id": "0a60ef06",
   "metadata": {},
   "outputs": [],
   "source": [
    "x_train,x_test,y_train,y_test = train_test_split(x,y,test_size=0.2,random_state=2)"
   ]
  },
  {
   "cell_type": "code",
   "execution_count": 38,
   "id": "3f2aaa2b",
   "metadata": {
    "scrolled": true
   },
   "outputs": [
    {
     "data": {
      "text/html": [
       "<div>\n",
       "<style scoped>\n",
       "    .dataframe tbody tr th:only-of-type {\n",
       "        vertical-align: middle;\n",
       "    }\n",
       "\n",
       "    .dataframe tbody tr th {\n",
       "        vertical-align: top;\n",
       "    }\n",
       "\n",
       "    .dataframe thead th {\n",
       "        text-align: right;\n",
       "    }\n",
       "</style>\n",
       "<table border=\"1\" class=\"dataframe\">\n",
       "  <thead>\n",
       "    <tr style=\"text-align: right;\">\n",
       "      <th></th>\n",
       "      <th>Age</th>\n",
       "      <th>Fare</th>\n",
       "    </tr>\n",
       "  </thead>\n",
       "  <tbody>\n",
       "    <tr>\n",
       "      <th>280</th>\n",
       "      <td>23.0</td>\n",
       "      <td>8.6625</td>\n",
       "    </tr>\n",
       "    <tr>\n",
       "      <th>284</th>\n",
       "      <td>2.0</td>\n",
       "      <td>20.2125</td>\n",
       "    </tr>\n",
       "    <tr>\n",
       "      <th>40</th>\n",
       "      <td>39.0</td>\n",
       "      <td>13.4167</td>\n",
       "    </tr>\n",
       "    <tr>\n",
       "      <th>17</th>\n",
       "      <td>21.0</td>\n",
       "      <td>7.2250</td>\n",
       "    </tr>\n",
       "    <tr>\n",
       "      <th>362</th>\n",
       "      <td>31.0</td>\n",
       "      <td>21.0000</td>\n",
       "    </tr>\n",
       "  </tbody>\n",
       "</table>\n",
       "</div>"
      ],
      "text/plain": [
       "      Age     Fare\n",
       "280  23.0   8.6625\n",
       "284   2.0  20.2125\n",
       "40   39.0  13.4167\n",
       "17   21.0   7.2250\n",
       "362  31.0  21.0000"
      ]
     },
     "execution_count": 38,
     "metadata": {},
     "output_type": "execute_result"
    }
   ],
   "source": [
    "x_train.head()"
   ]
  },
  {
   "cell_type": "code",
   "execution_count": 59,
   "id": "2b234f01",
   "metadata": {},
   "outputs": [],
   "source": [
    "si=SimpleImputer()       #add_indicator=True means missingIndicator is added\n",
    "x_train_trf = si.fit_transform(x_train)\n",
    "x_test_trf = si.transform(x_test)"
   ]
  },
  {
   "cell_type": "code",
   "execution_count": 60,
   "id": "c0b0638e",
   "metadata": {},
   "outputs": [
    {
     "data": {
      "text/plain": [
       "array([[2.30000000e+01, 8.66250000e+00],\n",
       "       [2.00000000e+00, 2.02125000e+01],\n",
       "       [3.90000000e+01, 1.34167000e+01],\n",
       "       [2.10000000e+01, 7.22500000e+00],\n",
       "       [3.10000000e+01, 2.10000000e+01],\n",
       "       [8.00000000e+00, 2.60000000e+01],\n",
       "       [2.93072519e+01, 7.00000000e+00],\n",
       "       [3.70000000e+01, 8.31583000e+01],\n",
       "       [1.70000000e+01, 4.71000000e+01],\n",
       "       [3.10000000e+01, 2.10000000e+01],\n",
       "       [8.30000000e-01, 9.35000000e+00],\n",
       "       [2.93072519e+01, 2.65500000e+01],\n",
       "       [2.20000000e+01, 8.96250000e+00],\n",
       "       [2.93072519e+01, 2.16792000e+01],\n",
       "       [2.70000000e+01, 7.89580000e+00],\n",
       "       [2.10000000e+01, 7.85420000e+00],\n",
       "       [4.50000000e+01, 6.33583000e+01],\n",
       "       [2.20000000e+01, 1.05000000e+01],\n",
       "       [2.93072519e+01, 2.10000000e+01],\n",
       "       [3.20000000e+01, 7.57920000e+00],\n",
       "       [2.93072519e+01, 1.45000000e+01],\n",
       "       [2.50000000e+01, 2.60000000e+01],\n",
       "       [2.60000000e+01, 2.20250000e+01],\n",
       "       [2.50000000e+01, 5.54417000e+01],\n",
       "       [2.93072519e+01, 2.16792000e+01],\n",
       "       [4.60000000e+01, 7.52417000e+01],\n",
       "       [3.00000000e+01, 4.55000000e+01],\n",
       "       [2.10000000e+01, 8.05000000e+00],\n",
       "       [2.70000000e+01, 8.66250000e+00],\n",
       "       [3.00000000e+01, 1.64866700e+02],\n",
       "       [5.00000000e+00, 3.13875000e+01],\n",
       "       [4.60000000e+01, 7.92000000e+01],\n",
       "       [4.10000000e+01, 7.85000000e+00],\n",
       "       [3.00000000e+01, 1.30000000e+01],\n",
       "       [2.93072519e+01, 7.89580000e+00],\n",
       "       [2.60000000e+01, 1.30000000e+01],\n",
       "       [2.40000000e+01, 8.66250000e+00],\n",
       "       [3.30000000e+01, 1.51550000e+02],\n",
       "       [2.30000000e+01, 8.31583000e+01],\n",
       "       [1.80000000e+01, 7.87920000e+00],\n",
       "       [2.70000000e+01, 7.85420000e+00],\n",
       "       [2.93072519e+01, 3.96000000e+01],\n",
       "       [1.85000000e+01, 1.30000000e+01],\n",
       "       [2.10000000e+01, 2.65500000e+01],\n",
       "       [2.50000000e+01, 7.22920000e+00],\n",
       "       [2.20000000e+01, 7.77500000e+00],\n",
       "       [6.30000000e+01, 2.60000000e+01],\n",
       "       [2.93072519e+01, 1.52458000e+01],\n",
       "       [2.93072519e+01, 7.75000000e+00],\n",
       "       [2.40000000e+01, 6.50000000e+01],\n",
       "       [4.00000000e+01, 2.60000000e+01],\n",
       "       [2.93072519e+01, 7.89580000e+00],\n",
       "       [2.40000000e+01, 9.32500000e+00],\n",
       "       [2.93072519e+01, 8.05000000e+00],\n",
       "       [2.93072519e+01, 8.71250000e+00],\n",
       "       [2.93072519e+01, 7.75000000e+00],\n",
       "       [8.00000000e+00, 3.25000000e+01],\n",
       "       [1.85000000e+01, 7.22920000e+00],\n",
       "       [1.90000000e+01, 1.61000000e+01],\n",
       "       [3.30000000e+01, 8.05000000e+00],\n",
       "       [2.93072519e+01, 2.57417000e+01],\n",
       "       [1.80000000e+01, 7.35000000e+01],\n",
       "       [3.60000000e+01, 3.16792000e+01],\n",
       "       [2.30000000e+01, 1.39000000e+01],\n",
       "       [4.20000000e+01, 1.30000000e+01],\n",
       "       [1.80000000e+01, 5.31000000e+01],\n",
       "       [5.50000000e+01, 5.00000000e+01],\n",
       "       [2.93072519e+01, 7.75000000e+00],\n",
       "       [2.20000000e+01, 8.05000000e+00],\n",
       "       [2.93072519e+01, 8.11250000e+00],\n",
       "       [1.90000000e+01, 1.30000000e+01],\n",
       "       [2.00000000e+01, 7.85420000e+00],\n",
       "       [3.60000000e+01, 7.52417000e+01],\n",
       "       [1.70000000e-01, 2.05750000e+01],\n",
       "       [2.00000000e+01, 1.38625000e+01],\n",
       "       [3.70000000e+01, 9.00000000e+01],\n",
       "       [2.00000000e+01, 7.22500000e+00],\n",
       "       [1.70000000e+01, 7.89580000e+00],\n",
       "       [4.90000000e+01, 6.50000000e+01],\n",
       "       [2.93072519e+01, 7.57500000e+00],\n",
       "       [2.93072519e+01, 7.89580000e+00],\n",
       "       [4.60000000e+01, 2.60000000e+01],\n",
       "       [7.50000000e-01, 1.37750000e+01],\n",
       "       [1.15000000e+01, 1.45000000e+01],\n",
       "       [1.70000000e+01, 7.35000000e+01],\n",
       "       [2.10000000e+01, 7.77500000e+00],\n",
       "       [2.20000000e+01, 7.79580000e+00],\n",
       "       [2.93072519e+01, 2.32500000e+01],\n",
       "       [3.60000000e+01, 3.90000000e+01],\n",
       "       [2.50000000e+01, 7.65000000e+00],\n",
       "       [5.50000000e+01, 1.35633300e+02],\n",
       "       [2.93072519e+01, 7.87920000e+00],\n",
       "       [2.60000000e+01, 7.77500000e+00],\n",
       "       [3.50000000e+01, 2.11500000e+02],\n",
       "       [2.80000000e+01, 1.05000000e+01],\n",
       "       [2.10000000e+01, 7.82080000e+00],\n",
       "       [2.93072519e+01, 7.77500000e+00],\n",
       "       [3.00000000e+01, 2.60000000e+01],\n",
       "       [1.80000000e+01, 1.05000000e+01],\n",
       "       [2.30000000e+01, 1.05000000e+01],\n",
       "       [2.10000000e+01, 6.13792000e+01],\n",
       "       [3.80000000e+01, 7.22920000e+00],\n",
       "       [3.00000000e+01, 1.27375000e+01],\n",
       "       [6.40000000e+01, 8.31583000e+01],\n",
       "       [4.70000000e+01, 7.00000000e+00],\n",
       "       [2.93072519e+01, 1.55000000e+01],\n",
       "       [2.93072519e+01, 5.64958000e+01],\n",
       "       [2.93072519e+01, 7.77920000e+00],\n",
       "       [2.93072519e+01, 1.44583000e+01],\n",
       "       [3.00000000e+00, 1.37750000e+01],\n",
       "       [2.93072519e+01, 1.55792000e+01],\n",
       "       [2.20000000e+01, 1.22875000e+01],\n",
       "       [1.60000000e+01, 8.51670000e+00],\n",
       "       [2.93072519e+01, 7.22500000e+00],\n",
       "       [4.10000000e+01, 1.30000000e+01],\n",
       "       [2.80000000e+01, 2.25250000e+01],\n",
       "       [2.93072519e+01, 1.44542000e+01],\n",
       "       [2.90000000e+01, 2.30000000e+01],\n",
       "       [2.40000000e+01, 3.70042000e+01],\n",
       "       [2.70000000e+01, 7.22500000e+00],\n",
       "       [4.50000000e+01, 3.00000000e+01],\n",
       "       [6.05000000e+01, 3.36627880e+01],\n",
       "       [4.80000000e+01, 5.04958000e+01],\n",
       "       [3.00000000e+01, 7.62920000e+00],\n",
       "       [2.20000000e+01, 1.39000000e+01],\n",
       "       [1.90000000e+01, 1.05000000e+01],\n",
       "       [2.90000000e+01, 2.21779200e+02],\n",
       "       [2.00000000e+01, 7.92500000e+00],\n",
       "       [4.90000000e+01, 2.60000000e+01],\n",
       "       [2.93072519e+01, 7.75000000e+00],\n",
       "       [2.10000000e+01, 7.89580000e+00],\n",
       "       [2.40000000e+01, 7.25000000e+00],\n",
       "       [2.30000000e+01, 9.35000000e+01],\n",
       "       [1.80000000e+01, 8.05000000e+00],\n",
       "       [6.40000000e+01, 7.52500000e+01],\n",
       "       [1.30000000e+01, 2.62375000e+02],\n",
       "       [4.70000000e+01, 6.11750000e+01],\n",
       "       [2.93072519e+01, 2.34500000e+01],\n",
       "       [3.20000000e+01, 7.77500000e+00],\n",
       "       [2.70000000e+01, 7.92500000e+00],\n",
       "       [2.30000000e+01, 1.05000000e+01],\n",
       "       [2.60000000e+01, 1.30000000e+01],\n",
       "       [1.80000000e+01, 6.00000000e+01],\n",
       "       [2.50000000e+01, 3.15000000e+01],\n",
       "       [3.60000000e+01, 1.21833000e+01],\n",
       "       [4.50000000e+01, 1.41083000e+01],\n",
       "       [2.60000000e+01, 7.77500000e+00],\n",
       "       [1.30000000e+01, 2.02500000e+01],\n",
       "       [1.30000000e+01, 3.13875000e+01],\n",
       "       [1.80000000e+01, 8.66250000e+00],\n",
       "       [1.20000000e+01, 1.57500000e+01],\n",
       "       [2.20000000e+01, 8.66250000e+00],\n",
       "       [2.00000000e+01, 2.60000000e+01],\n",
       "       [4.20000000e+01, 2.65500000e+01],\n",
       "       [2.90000000e+01, 2.20250000e+01],\n",
       "       [4.50000000e+01, 5.25542000e+01],\n",
       "       [1.85000000e+01, 7.28330000e+00],\n",
       "       [4.30000000e+01, 7.89580000e+00],\n",
       "       [3.00000000e+01, 1.38583000e+01],\n",
       "       [1.00000000e+01, 4.69000000e+01],\n",
       "       [2.93072519e+01, 8.05000000e+00],\n",
       "       [2.70000000e+01, 2.60000000e+01],\n",
       "       [3.20000000e+01, 2.25250000e+01],\n",
       "       [2.93072519e+01, 6.43750000e+00],\n",
       "       [1.40000000e+01, 9.22500000e+00],\n",
       "       [2.93072519e+01, 7.55000000e+00],\n",
       "       [3.20000000e+01, 8.05000000e+00],\n",
       "       [2.40000000e+01, 7.75000000e+00],\n",
       "       [4.80000000e+01, 7.92000000e+01],\n",
       "       [2.40000000e+01, 7.55000000e+00],\n",
       "       [1.80000000e+01, 1.44542000e+01],\n",
       "       [9.00000000e+00, 1.52458000e+01],\n",
       "       [3.10000000e+01, 1.34500000e+02],\n",
       "       [3.50000000e+01, 7.75000000e+00],\n",
       "       [2.70000000e+01, 2.47520800e+02],\n",
       "       [2.93072519e+01, 0.00000000e+00],\n",
       "       [2.93072519e+01, 8.05000000e+00],\n",
       "       [4.50000000e+01, 1.34500000e+02],\n",
       "       [2.90000000e+01, 2.60000000e+01],\n",
       "       [2.10000000e+01, 2.41500000e+01],\n",
       "       [2.50000000e+01, 7.92500000e+00],\n",
       "       [3.00000000e+01, 6.95000000e+00],\n",
       "       [2.93072519e+01, 1.45000000e+01],\n",
       "       [3.90000000e+01, 1.08900000e+02],\n",
       "       [2.93072519e+01, 8.05000000e+00],\n",
       "       [6.00000000e+01, 7.62917000e+01],\n",
       "       [3.10000000e+01, 1.80000000e+01],\n",
       "       [3.50000000e+01, 5.77500000e+01],\n",
       "       [3.20000000e+01, 1.30000000e+01],\n",
       "       [2.93072519e+01, 1.50458000e+01],\n",
       "       [3.00000000e+01, 1.51550000e+02],\n",
       "       [1.80000000e+01, 7.77500000e+00],\n",
       "       [2.80000000e+01, 8.05000000e+00],\n",
       "       [4.00000000e+01, 4.69000000e+01],\n",
       "       [2.93072519e+01, 1.28750000e+01],\n",
       "       [1.60000000e+01, 7.65000000e+00],\n",
       "       [2.93072519e+01, 7.75000000e+00],\n",
       "       [1.80000000e+01, 7.22920000e+00],\n",
       "       [3.90000000e+01, 7.22920000e+00],\n",
       "       [4.70000000e+01, 1.05000000e+01],\n",
       "       [2.10000000e+01, 7.75000000e+00],\n",
       "       [2.93072519e+01, 2.60000000e+01],\n",
       "       [3.90000000e+01, 7.12833000e+01],\n",
       "       [9.00000000e+00, 3.17080000e+00],\n",
       "       [6.00000000e+00, 2.10750000e+01],\n",
       "       [2.60000000e+01, 1.36779200e+02],\n",
       "       [5.90000000e+01, 5.14792000e+01],\n",
       "       [2.93072519e+01, 7.72080000e+00],\n",
       "       [2.93072519e+01, 7.75000000e+00],\n",
       "       [3.00000000e+01, 1.30000000e+01],\n",
       "       [4.50000000e+01, 2.97000000e+01],\n",
       "       [2.90000000e+01, 1.38583000e+01],\n",
       "       [2.93072519e+01, 7.22500000e+00],\n",
       "       [4.50000000e+01, 2.62375000e+02],\n",
       "       [2.93072519e+01, 8.05000000e+00],\n",
       "       [2.10000000e+01, 1.15000000e+01],\n",
       "       [2.93072519e+01, 1.44542000e+01],\n",
       "       [2.40000000e+01, 7.85420000e+00],\n",
       "       [3.30000000e-01, 1.44000000e+01],\n",
       "       [5.40000000e+01, 8.18583000e+01],\n",
       "       [4.10000000e+01, 1.50458000e+01],\n",
       "       [5.00000000e+01, 2.11500000e+02],\n",
       "       [2.20000000e+01, 7.72500000e+00],\n",
       "       [2.93072519e+01, 7.22920000e+00],\n",
       "       [2.70000000e+01, 5.20000000e+01],\n",
       "       [4.10000000e+01, 5.18625000e+01],\n",
       "       [1.80000000e+01, 7.75000000e+00],\n",
       "       [3.45000000e+01, 7.82920000e+00],\n",
       "       [2.25000000e+01, 7.22500000e+00],\n",
       "       [5.70000000e+01, 1.30000000e+01],\n",
       "       [9.20000000e-01, 2.77500000e+01],\n",
       "       [5.40000000e+01, 5.54417000e+01],\n",
       "       [1.70000000e+01, 8.05000000e+00],\n",
       "       [2.93072519e+01, 2.65500000e+01],\n",
       "       [4.80000000e+01, 1.06425000e+02],\n",
       "       [4.50000000e+01, 5.94000000e+01],\n",
       "       [5.00000000e+01, 2.60000000e+01],\n",
       "       [4.20000000e+01, 2.65500000e+01],\n",
       "       [2.80000000e+01, 2.60000000e+01],\n",
       "       [2.93072519e+01, 1.55000000e+01],\n",
       "       [3.60000000e+01, 2.62375000e+02],\n",
       "       [4.70000000e+01, 2.27525000e+02],\n",
       "       [3.30000000e+01, 2.77208000e+01],\n",
       "       [2.93072519e+01, 7.87920000e+00],\n",
       "       [3.00000000e+01, 2.60000000e+01],\n",
       "       [2.80000000e+01, 7.25000000e+00],\n",
       "       [2.20000000e+01, 7.22500000e+00],\n",
       "       [3.50000000e+01, 1.23500000e+01],\n",
       "       [5.30000000e+01, 2.74458000e+01],\n",
       "       [4.90000000e+01, 0.00000000e+00],\n",
       "       [3.60000000e+01, 1.30000000e+01],\n",
       "       [5.50000000e+01, 9.35000000e+01],\n",
       "       [2.93072519e+01, 8.05000000e+00],\n",
       "       [2.90000000e+01, 7.92500000e+00],\n",
       "       [1.70000000e+01, 1.61000000e+01],\n",
       "       [3.20000000e+01, 1.35000000e+01],\n",
       "       [6.70000000e+01, 2.21779200e+02],\n",
       "       [2.93072519e+01, 2.23583000e+01],\n",
       "       [3.90000000e+01, 2.11337500e+02],\n",
       "       [3.50000000e+01, 7.89580000e+00],\n",
       "       [4.50000000e+01, 7.22500000e+00],\n",
       "       [2.70000000e+01, 7.87920000e+00],\n",
       "       [1.20000000e+01, 3.90000000e+01],\n",
       "       [2.20000000e+01, 2.10000000e+01],\n",
       "       [2.60000000e+01, 1.30000000e+01],\n",
       "       [5.70000000e+01, 1.46520800e+02],\n",
       "       [3.00000000e+01, 5.77500000e+01],\n",
       "       [1.00000000e+00, 4.15792000e+01],\n",
       "       [2.30000000e+01, 8.05000000e+00],\n",
       "       [3.25000000e+01, 9.50000000e+00],\n",
       "       [2.93072519e+01, 8.05000000e+00],\n",
       "       [2.20000000e+01, 6.19792000e+01],\n",
       "       [2.93072519e+01, 7.22920000e+00],\n",
       "       [3.00000000e+01, 1.30000000e+01],\n",
       "       [7.60000000e+01, 7.88500000e+01],\n",
       "       [2.93072519e+01, 7.89580000e+00],\n",
       "       [2.70000000e+01, 1.36779200e+02],\n",
       "       [4.00000000e+01, 1.60000000e+01],\n",
       "       [2.85000000e+01, 2.77208000e+01],\n",
       "       [2.90000000e+01, 2.60000000e+01],\n",
       "       [4.20000000e+01, 3.25000000e+01],\n",
       "       [2.93072519e+01, 7.87920000e+00],\n",
       "       [2.93072519e+01, 7.75000000e+00],\n",
       "       [2.65000000e+01, 7.22500000e+00],\n",
       "       [2.60000000e+01, 7.89580000e+00],\n",
       "       [3.60000000e+01, 1.59000000e+01],\n",
       "       [2.40000000e+01, 1.05000000e+01],\n",
       "       [4.30000000e+01, 2.77208000e+01],\n",
       "       [2.20000000e+01, 5.94000000e+01],\n",
       "       [2.93072519e+01, 2.54667000e+01],\n",
       "       [2.40000000e+01, 6.00000000e+01],\n",
       "       [1.80000000e+01, 1.30000000e+01],\n",
       "       [2.00000000e+01, 2.30000000e+01],\n",
       "       [6.00000000e+00, 1.52458000e+01],\n",
       "       [2.40000000e+01, 3.15000000e+01],\n",
       "       [2.93072519e+01, 7.75000000e+00],\n",
       "       [2.93072519e+01, 7.05000000e+00],\n",
       "       [2.50000000e+01, 1.05000000e+01],\n",
       "       [4.30000000e+01, 2.10000000e+01],\n",
       "       [6.00000000e+00, 1.34500000e+02],\n",
       "       [2.93072519e+01, 7.75000000e+00],\n",
       "       [2.30000000e+01, 7.05000000e+00],\n",
       "       [3.30000000e+01, 2.65500000e+01],\n",
       "       [2.93072519e+01, 7.55000000e+00],\n",
       "       [2.93072519e+01, 7.75000000e+00],\n",
       "       [2.93072519e+01, 1.61000000e+01],\n",
       "       [2.93072519e+01, 2.34500000e+01],\n",
       "       [2.50000000e+01, 9.50000000e+00],\n",
       "       [3.00000000e+01, 1.55500000e+01],\n",
       "       [2.70000000e+01, 1.50333000e+01],\n",
       "       [2.70000000e+01, 8.66250000e+00],\n",
       "       [3.65000000e+01, 1.74000000e+01],\n",
       "       [2.93072519e+01, 7.75000000e+00],\n",
       "       [3.30000000e+01, 7.85420000e+00],\n",
       "       [1.80000000e+01, 3.43750000e+01],\n",
       "       [5.30000000e+01, 8.18583000e+01],\n",
       "       [2.93072519e+01, 6.43750000e+00],\n",
       "       [2.93072519e+01, 7.75000000e+00],\n",
       "       [5.00000000e+01, 2.11500000e+02],\n",
       "       [2.40000000e+01, 8.22667000e+01],\n",
       "       [2.20000000e+01, 3.15000000e+01],\n",
       "       [2.93072519e+01, 7.75000000e+00],\n",
       "       [6.00000000e+01, 2.60000000e+01],\n",
       "       [2.80000000e+01, 7.77500000e+00],\n",
       "       [2.50000000e+01, 7.79580000e+00],\n",
       "       [2.60000000e+01, 1.35000000e+01],\n",
       "       [1.00000000e+00, 1.21833000e+01],\n",
       "       [1.45000000e+01, 6.95500000e+01],\n",
       "       [3.25000000e+01, 2.11500000e+02],\n",
       "       [2.90000000e+01, 7.85420000e+00],\n",
       "       [2.93072519e+01, 3.16833000e+01],\n",
       "       [2.90000000e+01, 7.92500000e+00],\n",
       "       [2.40000000e+01, 2.77208000e+01],\n",
       "       [2.93072519e+01, 2.77208000e+01]])"
      ]
     },
     "execution_count": 60,
     "metadata": {},
     "output_type": "execute_result"
    }
   ],
   "source": [
    "x_train_trf"
   ]
  },
  {
   "cell_type": "code",
   "execution_count": 61,
   "id": "10ad00e8",
   "metadata": {},
   "outputs": [
    {
     "data": {
      "text/plain": [
       "0.6428571428571429"
      ]
     },
     "execution_count": 61,
     "metadata": {},
     "output_type": "execute_result"
    }
   ],
   "source": [
    "from sklearn.linear_model import LogisticRegression\n",
    "clf = LogisticRegression()\n",
    "clf.fit(x_train_trf,y_train)\n",
    "y_pred = clf.predict(x_test_trf)\n",
    "\n",
    "from sklearn.metrics import accuracy_score\n",
    "accuracy_score(y_test,y_pred)"
   ]
  },
  {
   "cell_type": "code",
   "execution_count": 62,
   "id": "d6158b82",
   "metadata": {},
   "outputs": [],
   "source": [
    "mi = MissingIndicator()\n",
    "x_train_missing = mi.fit_transform(x_train)\n",
    "x_test_missing = mi.transform(x_test)"
   ]
  },
  {
   "cell_type": "code",
   "execution_count": 67,
   "id": "48be083a",
   "metadata": {},
   "outputs": [
    {
     "data": {
      "text/plain": [
       "0.6071428571428571"
      ]
     },
     "execution_count": 67,
     "metadata": {},
     "output_type": "execute_result"
    }
   ],
   "source": [
    "from sklearn.linear_model import LogisticRegression\n",
    "clf = LogisticRegression()\n",
    "clf.fit(x_train_missing,y_train)\n",
    "y_pred = clf.predict(x_test_missing)\n",
    "\n",
    "from sklearn.metrics import accuracy_score\n",
    "accuracy_score(y_test,y_pred)"
   ]
  },
  {
   "cell_type": "code",
   "execution_count": null,
   "id": "d2ad3ea9",
   "metadata": {},
   "outputs": [],
   "source": []
  }
 ],
 "metadata": {
  "kernelspec": {
   "display_name": "Python 3 (ipykernel)",
   "language": "python",
   "name": "python3"
  },
  "language_info": {
   "codemirror_mode": {
    "name": "ipython",
    "version": 3
   },
   "file_extension": ".py",
   "mimetype": "text/x-python",
   "name": "python",
   "nbconvert_exporter": "python",
   "pygments_lexer": "ipython3",
   "version": "3.10.9"
  }
 },
 "nbformat": 4,
 "nbformat_minor": 5
}
