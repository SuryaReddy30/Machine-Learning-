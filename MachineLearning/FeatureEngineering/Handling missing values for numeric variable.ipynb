{
 "cells": [
  {
   "cell_type": "code",
   "execution_count": 61,
   "id": "f5353328",
   "metadata": {},
   "outputs": [],
   "source": [
    "# Using Pandas\n",
    "import pandas as pd\n",
    "import numpy as np\n",
    "import matplotlib.pyplot as plt\n",
    "%matplotlib inline"
   ]
  },
  {
   "cell_type": "code",
   "execution_count": 7,
   "id": "3d260c32",
   "metadata": {},
   "outputs": [],
   "source": [
    "df=pd.read_csv(\"titanic.csv\")"
   ]
  },
  {
   "cell_type": "code",
   "execution_count": 8,
   "id": "92a21631",
   "metadata": {},
   "outputs": [
    {
     "data": {
      "text/html": [
       "<div>\n",
       "<style scoped>\n",
       "    .dataframe tbody tr th:only-of-type {\n",
       "        vertical-align: middle;\n",
       "    }\n",
       "\n",
       "    .dataframe tbody tr th {\n",
       "        vertical-align: top;\n",
       "    }\n",
       "\n",
       "    .dataframe thead th {\n",
       "        text-align: right;\n",
       "    }\n",
       "</style>\n",
       "<table border=\"1\" class=\"dataframe\">\n",
       "  <thead>\n",
       "    <tr style=\"text-align: right;\">\n",
       "      <th></th>\n",
       "      <th>PassengerId</th>\n",
       "      <th>Survived</th>\n",
       "      <th>Pclass</th>\n",
       "      <th>Name</th>\n",
       "      <th>Sex</th>\n",
       "      <th>Age</th>\n",
       "      <th>SibSp</th>\n",
       "      <th>Parch</th>\n",
       "      <th>Ticket</th>\n",
       "      <th>Fare</th>\n",
       "      <th>Cabin</th>\n",
       "      <th>Embarked</th>\n",
       "    </tr>\n",
       "  </thead>\n",
       "  <tbody>\n",
       "    <tr>\n",
       "      <th>0</th>\n",
       "      <td>892</td>\n",
       "      <td>0</td>\n",
       "      <td>3</td>\n",
       "      <td>Kelly, Mr. James</td>\n",
       "      <td>male</td>\n",
       "      <td>34.5</td>\n",
       "      <td>0</td>\n",
       "      <td>0</td>\n",
       "      <td>330911</td>\n",
       "      <td>7.8292</td>\n",
       "      <td>NaN</td>\n",
       "      <td>Q</td>\n",
       "    </tr>\n",
       "    <tr>\n",
       "      <th>1</th>\n",
       "      <td>893</td>\n",
       "      <td>1</td>\n",
       "      <td>3</td>\n",
       "      <td>Wilkes, Mrs. James (Ellen Needs)</td>\n",
       "      <td>female</td>\n",
       "      <td>47.0</td>\n",
       "      <td>1</td>\n",
       "      <td>0</td>\n",
       "      <td>363272</td>\n",
       "      <td>7.0000</td>\n",
       "      <td>NaN</td>\n",
       "      <td>S</td>\n",
       "    </tr>\n",
       "    <tr>\n",
       "      <th>2</th>\n",
       "      <td>894</td>\n",
       "      <td>0</td>\n",
       "      <td>2</td>\n",
       "      <td>Myles, Mr. Thomas Francis</td>\n",
       "      <td>male</td>\n",
       "      <td>62.0</td>\n",
       "      <td>0</td>\n",
       "      <td>0</td>\n",
       "      <td>240276</td>\n",
       "      <td>9.6875</td>\n",
       "      <td>NaN</td>\n",
       "      <td>Q</td>\n",
       "    </tr>\n",
       "    <tr>\n",
       "      <th>3</th>\n",
       "      <td>895</td>\n",
       "      <td>0</td>\n",
       "      <td>3</td>\n",
       "      <td>Wirz, Mr. Albert</td>\n",
       "      <td>male</td>\n",
       "      <td>27.0</td>\n",
       "      <td>0</td>\n",
       "      <td>0</td>\n",
       "      <td>315154</td>\n",
       "      <td>8.6625</td>\n",
       "      <td>NaN</td>\n",
       "      <td>S</td>\n",
       "    </tr>\n",
       "    <tr>\n",
       "      <th>4</th>\n",
       "      <td>896</td>\n",
       "      <td>1</td>\n",
       "      <td>3</td>\n",
       "      <td>Hirvonen, Mrs. Alexander (Helga E Lindqvist)</td>\n",
       "      <td>female</td>\n",
       "      <td>22.0</td>\n",
       "      <td>1</td>\n",
       "      <td>1</td>\n",
       "      <td>3101298</td>\n",
       "      <td>12.2875</td>\n",
       "      <td>NaN</td>\n",
       "      <td>S</td>\n",
       "    </tr>\n",
       "  </tbody>\n",
       "</table>\n",
       "</div>"
      ],
      "text/plain": [
       "   PassengerId  Survived  Pclass  \\\n",
       "0          892         0       3   \n",
       "1          893         1       3   \n",
       "2          894         0       2   \n",
       "3          895         0       3   \n",
       "4          896         1       3   \n",
       "\n",
       "                                           Name     Sex   Age  SibSp  Parch  \\\n",
       "0                              Kelly, Mr. James    male  34.5      0      0   \n",
       "1              Wilkes, Mrs. James (Ellen Needs)  female  47.0      1      0   \n",
       "2                     Myles, Mr. Thomas Francis    male  62.0      0      0   \n",
       "3                              Wirz, Mr. Albert    male  27.0      0      0   \n",
       "4  Hirvonen, Mrs. Alexander (Helga E Lindqvist)  female  22.0      1      1   \n",
       "\n",
       "    Ticket     Fare Cabin Embarked  \n",
       "0   330911   7.8292   NaN        Q  \n",
       "1   363272   7.0000   NaN        S  \n",
       "2   240276   9.6875   NaN        Q  \n",
       "3   315154   8.6625   NaN        S  \n",
       "4  3101298  12.2875   NaN        S  "
      ]
     },
     "execution_count": 8,
     "metadata": {},
     "output_type": "execute_result"
    }
   ],
   "source": [
    "df.head()"
   ]
  },
  {
   "cell_type": "code",
   "execution_count": 9,
   "id": "537512c0",
   "metadata": {},
   "outputs": [
    {
     "data": {
      "text/plain": [
       "PassengerId    0.000000\n",
       "Survived       0.000000\n",
       "Pclass         0.000000\n",
       "Name           0.000000\n",
       "Sex            0.000000\n",
       "Age            0.205742\n",
       "SibSp          0.000000\n",
       "Parch          0.000000\n",
       "Ticket         0.000000\n",
       "Fare           0.002392\n",
       "Cabin          0.782297\n",
       "Embarked       0.000000\n",
       "dtype: float64"
      ]
     },
     "execution_count": 9,
     "metadata": {},
     "output_type": "execute_result"
    }
   ],
   "source": [
    "df.isnull().mean()"
   ]
  },
  {
   "cell_type": "code",
   "execution_count": 10,
   "id": "61e26286",
   "metadata": {},
   "outputs": [],
   "source": [
    "mean_Fare= df['Fare'].mean()\n",
    "median_Fare =df['Fare'].median()"
   ]
  },
  {
   "cell_type": "code",
   "execution_count": 11,
   "id": "89200d3c",
   "metadata": {},
   "outputs": [
    {
     "data": {
      "text/plain": [
       "35.627188489208635"
      ]
     },
     "execution_count": 11,
     "metadata": {},
     "output_type": "execute_result"
    }
   ],
   "source": [
    "mean_Fare"
   ]
  },
  {
   "cell_type": "code",
   "execution_count": 12,
   "id": "c8f78e81",
   "metadata": {},
   "outputs": [
    {
     "data": {
      "text/plain": [
       "14.4542"
      ]
     },
     "execution_count": 12,
     "metadata": {},
     "output_type": "execute_result"
    }
   ],
   "source": [
    "median_Fare"
   ]
  },
  {
   "cell_type": "code",
   "execution_count": 33,
   "id": "937b7ea5",
   "metadata": {},
   "outputs": [
    {
     "data": {
      "text/plain": [
       "0        7.8292\n",
       "1        7.0000\n",
       "2        9.6875\n",
       "3        8.6625\n",
       "4       12.2875\n",
       "         ...   \n",
       "413      8.0500\n",
       "414    108.9000\n",
       "415      7.2500\n",
       "416      8.0500\n",
       "417     22.3583\n",
       "Name: Fare, Length: 418, dtype: float64"
      ]
     },
     "execution_count": 33,
     "metadata": {},
     "output_type": "execute_result"
    }
   ],
   "source": [
    "d_mean=df['Fare'].fillna(mean_Fare)              # to fill with arbitary value use fillna(99) to fill 99 in missing values\n",
    "d_mean"
   ]
  },
  {
   "cell_type": "code",
   "execution_count": 30,
   "id": "df31e514",
   "metadata": {},
   "outputs": [
    {
     "data": {
      "text/plain": [
       "<Axes: >"
      ]
     },
     "execution_count": 30,
     "metadata": {},
     "output_type": "execute_result"
    },
    {
     "data": {
      "image/png": "[encoded data removed]",
      "text/plain": [
       "<Figure size 640x480 with 1 Axes>"
      ]
     },
     "metadata": {},
     "output_type": "display_data"
    }
   ],
   "source": [
    "ax=plt.figure().add_subplot \n",
    "df['Fare'].hist(ax=ax,color='Green')\n",
    "d_mean.hist(ax=ax,color='red')"
   ]
  },
  {
   "cell_type": "markdown",
   "id": "50e0b5d0",
   "metadata": {},
   "source": [
    "# Using sklearn"
   ]
  },
  {
   "cell_type": "code",
   "execution_count": 56,
   "id": "5dafb3e1",
   "metadata": {},
   "outputs": [],
   "source": [
    "from sklearn.model_selection import train_test_split       \n",
    "from sklearn.impute import SimpleImputer\n",
    "from sklearn.compose import ColumnTransformer"
   ]
  },
  {
   "cell_type": "code",
   "execution_count": 57,
   "id": "b1855027",
   "metadata": {},
   "outputs": [],
   "source": [
    "x=df.drop(columns=['Survived'])\n",
    "y=df['Survived']\n",
    "x_train,x_test,y_train,y_test=train_test_split(x,y,test_size=0.2,random_state=2)"
   ]
  },
  {
   "cell_type": "code",
   "execution_count": 58,
   "id": "b0d266f4",
   "metadata": {},
   "outputs": [],
   "source": [
    "imputer1= SimpleImputer(strategy='median')     #strategy = 'constant',fill_value=99\n",
    "imputer2= SimpleImputer(strategy='mean')"
   ]
  },
  {
   "cell_type": "code",
   "execution_count": 59,
   "id": "57df8264",
   "metadata": {},
   "outputs": [],
   "source": [
    "trf = ColumnTransformer([\n",
    "    ('imputer1',imputer1,['Age']),\n",
    "    ('imputer2',imputer2,['Fare'])\n",
    "    ],remainder = 'passthrough')"
   ]
  },
  {
   "cell_type": "code",
   "execution_count": 63,
   "id": "eb94e9ce",
   "metadata": {},
   "outputs": [
    {
     "data": {
      "text/html": [
       "<style>#sk-container-id-1 {color: black;background-color: white;}#sk-container-id-1 pre{padding: 0;}#sk-container-id-1 div.sk-toggleable {background-color: white;}#sk-container-id-1 label.sk-toggleable__label {cursor: pointer;display: block;width: 100%;margin-bottom: 0;padding: 0.3em;box-sizing: border-box;text-align: center;}#sk-container-id-1 label.sk-toggleable__label-arrow:before {content: \"▸\";float: left;margin-right: 0.25em;color: #696969;}#sk-container-id-1 label.sk-toggleable__label-arrow:hover:before {color: black;}#sk-container-id-1 div.sk-estimator:hover label.sk-toggleable__label-arrow:before {color: black;}#sk-container-id-1 div.sk-toggleable__content {max-height: 0;max-width: 0;overflow: hidden;text-align: left;background-color: #f0f8ff;}#sk-container-id-1 div.sk-toggleable__content pre {margin: 0.2em;color: black;border-radius: 0.25em;background-color: #f0f8ff;}#sk-container-id-1 input.sk-toggleable__control:checked~div.sk-toggleable__content {max-height: 200px;max-width: 100%;overflow: auto;}#sk-container-id-1 input.sk-toggleable__control:checked~label.sk-toggleable__label-arrow:before {content: \"▾\";}#sk-container-id-1 div.sk-estimator input.sk-toggleable__control:checked~label.sk-toggleable__label {background-color: #d4ebff;}#sk-container-id-1 div.sk-label input.sk-toggleable__control:checked~label.sk-toggleable__label {background-color: #d4ebff;}#sk-container-id-1 input.sk-hidden--visually {border: 0;clip: rect(1px 1px 1px 1px);clip: rect(1px, 1px, 1px, 1px);height: 1px;margin: -1px;overflow: hidden;padding: 0;position: absolute;width: 1px;}#sk-container-id-1 div.sk-estimator {font-family: monospace;background-color: #f0f8ff;border: 1px dotted black;border-radius: 0.25em;box-sizing: border-box;margin-bottom: 0.5em;}#sk-container-id-1 div.sk-estimator:hover {background-color: #d4ebff;}#sk-container-id-1 div.sk-parallel-item::after {content: \"\";width: 100%;border-bottom: 1px solid gray;flex-grow: 1;}#sk-container-id-1 div.sk-label:hover label.sk-toggleable__label {background-color: #d4ebff;}#sk-container-id-1 div.sk-serial::before {content: \"\";position: absolute;border-left: 1px solid gray;box-sizing: border-box;top: 0;bottom: 0;left: 50%;z-index: 0;}#sk-container-id-1 div.sk-serial {display: flex;flex-direction: column;align-items: center;background-color: white;padding-right: 0.2em;padding-left: 0.2em;position: relative;}#sk-container-id-1 div.sk-item {position: relative;z-index: 1;}#sk-container-id-1 div.sk-parallel {display: flex;align-items: stretch;justify-content: center;background-color: white;position: relative;}#sk-container-id-1 div.sk-item::before, #sk-container-id-1 div.sk-parallel-item::before {content: \"\";position: absolute;border-left: 1px solid gray;box-sizing: border-box;top: 0;bottom: 0;left: 50%;z-index: -1;}#sk-container-id-1 div.sk-parallel-item {display: flex;flex-direction: column;z-index: 1;position: relative;background-color: white;}#sk-container-id-1 div.sk-parallel-item:first-child::after {align-self: flex-end;width: 50%;}#sk-container-id-1 div.sk-parallel-item:last-child::after {align-self: flex-start;width: 50%;}#sk-container-id-1 div.sk-parallel-item:only-child::after {width: 0;}#sk-container-id-1 div.sk-dashed-wrapped {border: 1px dashed gray;margin: 0 0.4em 0.5em 0.4em;box-sizing: border-box;padding-bottom: 0.4em;background-color: white;}#sk-container-id-1 div.sk-label label {font-family: monospace;font-weight: bold;display: inline-block;line-height: 1.2em;}#sk-container-id-1 div.sk-label-container {text-align: center;}#sk-container-id-1 div.sk-container {/* jupyter's `normalize.less` sets `[hidden] { display: none; }` but bootstrap.min.css set `[hidden] { display: none !important; }` so we also need the `!important` here to be able to override the default hidden behavior on the sphinx rendered scikit-learn.org. See: https://github.com/scikit-learn/scikit-learn/issues/21755 */display: inline-block !important;position: relative;}#sk-container-id-1 div.sk-text-repr-fallback {display: none;}</style><div id=\"sk-container-id-1\" class=\"sk-top-container\"><div class=\"sk-text-repr-fallback\"><pre>ColumnTransformer(remainder=&#x27;passthrough&#x27;,\n",
       "                  transformers=[(&#x27;imputer1&#x27;, SimpleImputer(strategy=&#x27;median&#x27;),\n",
       "                                 [&#x27;Age&#x27;]),\n",
       "                                (&#x27;imputer2&#x27;, SimpleImputer(), [&#x27;Fare&#x27;])])</pre><b>In a Jupyter environment, please rerun this cell to show the HTML representation or trust the notebook. <br />On GitHub, the HTML representation is unable to render, please try loading this page with nbviewer.org.</b></div><div class=\"sk-container\" hidden><div class=\"sk-item sk-dashed-wrapped\"><div class=\"sk-label-container\"><div class=\"sk-label sk-toggleable\"><input class=\"sk-toggleable__control sk-hidden--visually\" id=\"sk-estimator-id-1\" type=\"checkbox\" ><label for=\"sk-estimator-id-1\" class=\"sk-toggleable__label sk-toggleable__label-arrow\">ColumnTransformer</label><div class=\"sk-toggleable__content\"><pre>ColumnTransformer(remainder=&#x27;passthrough&#x27;,\n",
       "                  transformers=[(&#x27;imputer1&#x27;, SimpleImputer(strategy=&#x27;median&#x27;),\n",
       "                                 [&#x27;Age&#x27;]),\n",
       "                                (&#x27;imputer2&#x27;, SimpleImputer(), [&#x27;Fare&#x27;])])</pre></div></div></div><div class=\"sk-parallel\"><div class=\"sk-parallel-item\"><div class=\"sk-item\"><div class=\"sk-label-container\"><div class=\"sk-label sk-toggleable\"><input class=\"sk-toggleable__control sk-hidden--visually\" id=\"sk-estimator-id-2\" type=\"checkbox\" ><label for=\"sk-estimator-id-2\" class=\"sk-toggleable__label sk-toggleable__label-arrow\">imputer1</label><div class=\"sk-toggleable__content\"><pre>[&#x27;Age&#x27;]</pre></div></div></div><div class=\"sk-serial\"><div class=\"sk-item\"><div class=\"sk-estimator sk-toggleable\"><input class=\"sk-toggleable__control sk-hidden--visually\" id=\"sk-estimator-id-3\" type=\"checkbox\" ><label for=\"sk-estimator-id-3\" class=\"sk-toggleable__label sk-toggleable__label-arrow\">SimpleImputer</label><div class=\"sk-toggleable__content\"><pre>SimpleImputer(strategy=&#x27;median&#x27;)</pre></div></div></div></div></div></div><div class=\"sk-parallel-item\"><div class=\"sk-item\"><div class=\"sk-label-container\"><div class=\"sk-label sk-toggleable\"><input class=\"sk-toggleable__control sk-hidden--visually\" id=\"sk-estimator-id-4\" type=\"checkbox\" ><label for=\"sk-estimator-id-4\" class=\"sk-toggleable__label sk-toggleable__label-arrow\">imputer2</label><div class=\"sk-toggleable__content\"><pre>[&#x27;Fare&#x27;]</pre></div></div></div><div class=\"sk-serial\"><div class=\"sk-item\"><div class=\"sk-estimator sk-toggleable\"><input class=\"sk-toggleable__control sk-hidden--visually\" id=\"sk-estimator-id-5\" type=\"checkbox\" ><label for=\"sk-estimator-id-5\" class=\"sk-toggleable__label sk-toggleable__label-arrow\">SimpleImputer</label><div class=\"sk-toggleable__content\"><pre>SimpleImputer()</pre></div></div></div></div></div></div><div class=\"sk-parallel-item\"><div class=\"sk-item\"><div class=\"sk-label-container\"><div class=\"sk-label sk-toggleable\"><input class=\"sk-toggleable__control sk-hidden--visually\" id=\"sk-estimator-id-6\" type=\"checkbox\" ><label for=\"sk-estimator-id-6\" class=\"sk-toggleable__label sk-toggleable__label-arrow\">remainder</label><div class=\"sk-toggleable__content\"><pre>[&#x27;PassengerId&#x27;, &#x27;Pclass&#x27;, &#x27;Name&#x27;, &#x27;Sex&#x27;, &#x27;SibSp&#x27;, &#x27;Parch&#x27;, &#x27;Ticket&#x27;, &#x27;Cabin&#x27;, &#x27;Embarked&#x27;]</pre></div></div></div><div class=\"sk-serial\"><div class=\"sk-item\"><div class=\"sk-estimator sk-toggleable\"><input class=\"sk-toggleable__control sk-hidden--visually\" id=\"sk-estimator-id-7\" type=\"checkbox\" ><label for=\"sk-estimator-id-7\" class=\"sk-toggleable__label sk-toggleable__label-arrow\">passthrough</label><div class=\"sk-toggleable__content\"><pre>passthrough</pre></div></div></div></div></div></div></div></div></div></div>"
      ],
      "text/plain": [
       "ColumnTransformer(remainder='passthrough',\n",
       "                  transformers=[('imputer1', SimpleImputer(strategy='median'),\n",
       "                                 ['Age']),\n",
       "                                ('imputer2', SimpleImputer(), ['Fare'])])"
      ]
     },
     "execution_count": 63,
     "metadata": {},
     "output_type": "execute_result"
    }
   ],
   "source": [
    "trf.fit(x_train)"
   ]
  },
  {
   "cell_type": "code",
   "execution_count": 64,
   "id": "10baa9e6",
   "metadata": {},
   "outputs": [],
   "source": [
    "x_train=trf.transform(x_train)\n",
    "x_test=trf.transform(x_test)"
   ]
  },
  {
   "cell_type": "code",
   "execution_count": 65,
   "id": "b2cd0ca2",
   "metadata": {},
   "outputs": [
    {
     "data": {
      "text/plain": [
       "array([[23.0, 8.6625, 1172, ..., '315085', nan, 'S'],\n",
       "       [2.0, 20.2125, 1176, ..., '370129', nan, 'S'],\n",
       "       [39.0, 13.4167, 932, ..., '349256', nan, 'C'],\n",
       "       ...,\n",
       "       [29.0, 7.925, 964, ..., '3101297', nan, 'S'],\n",
       "       [24.0, 27.7208, 907, ..., 'SC/PARIS 2167', nan, 'C'],\n",
       "       [27.0, 27.7208, 1060, ..., '17770', nan, 'C']], dtype=object)"
      ]
     },
     "execution_count": 65,
     "metadata": {},
     "output_type": "execute_result"
    }
   ],
   "source": [
    "x_train"
   ]
  },
  {
   "cell_type": "code",
   "execution_count": 66,
   "id": "f286d346",
   "metadata": {},
   "outputs": [
    {
     "data": {
      "text/plain": [
       "array([[27.0, 51.8625, 1038, 1, 'Hilliard, Mr. Herbert Henry', 'male', 0,\n",
       "        0, '17463', 'E46', 'S'],\n",
       "       [21.0, 7.7958, 1115, 3, 'Karlsson, Mr. Einar Gervasius', 'male',\n",
       "        0, 0, '350053', nan, 'S'],\n",
       "       [61.0, 12.35, 1085, 2, 'Lingane, Mr. John', 'male', 0, 0,\n",
       "        '235509', nan, 'Q'],\n",
       "       [64.0, 26.55, 1197, 1,\n",
       "        'Crosby, Mrs. Edward Gifford (Catherine Elizabeth Halstead)',\n",
       "        'female', 1, 1, '112901', 'B26', 'S'],\n",
       "       [27.0, 69.55, 1080, 3, 'Sage, Miss. Ada', 'female', 8, 2,\n",
       "        'CA. 2343', nan, 'S'],\n",
       "       [61.0, 262.375, 1034, 1, 'Ryerson, Mr. Arthur Larned', 'male', 1,\n",
       "        3, 'PC 17608', 'B57 B59 B63 B66', 'C'],\n",
       "       [33.0, 20.575, 924, 3, 'Dean, Mrs. Bertram (Eva Georgetta Light)',\n",
       "        'female', 1, 2, 'C.A. 2315', nan, 'S'],\n",
       "       [27.0, 8.05, 1308, 3, 'Ware, Mr. Frederick', 'male', 0, 0,\n",
       "        '359309', nan, 'S'],\n",
       "       [55.0, 59.4, 912, 1, 'Rothschild, Mr. Martin', 'male', 1, 0,\n",
       "        'PC 17603', nan, 'C'],\n",
       "       [29.0, 26.0, 1011, 2,\n",
       "        'Chapman, Mrs. John Henry (Sara Elizabeth Lawry)', 'female', 1,\n",
       "        0, 'SC/AH 29037', nan, 'S'],\n",
       "       [31.0, 7.7333, 1291, 3, 'Conlon, Mr. Thomas Henry', 'male', 0, 0,\n",
       "        '21332', nan, 'Q'],\n",
       "       [21.0, 21.0, 1078, 2, 'Phillips, Miss. Alice Frances Louisa',\n",
       "        'female', 0, 1, 'S.O./P.P. 2', nan, 'S'],\n",
       "       [15.0, 39.0, 1067, 2, 'Brown, Miss. Edith Eileen', 'female', 0, 2,\n",
       "        '29750', nan, 'S'],\n",
       "       [30.0, 21.0, 1170, 2, 'Ware, Mr. John James', 'male', 1, 0,\n",
       "        'CA 31352', nan, 'S'],\n",
       "       [28.0, 263.0, 945, 1, 'Fortune, Miss. Ethel Flora', 'female', 3,\n",
       "        2, '19950', 'C23 C25 C27', 'S'],\n",
       "       [34.0, 26.0, 1082, 2, 'Angle, Mr. William A', 'male', 1, 0,\n",
       "        '226875', nan, 'S'],\n",
       "       [24.0, 7.775, 1278, 3, 'Aronsson, Mr. Ernst Axel Algot', 'male',\n",
       "        0, 0, '349911', nan, 'S'],\n",
       "       [23.0, 7.7958, 1118, 3, 'Asplund, Mr. Johan Charles', 'male', 0,\n",
       "        0, '350054', nan, 'S'],\n",
       "       [21.0, 11.5, 1269, 2, 'Cotterill, Mr. Henry Harry\"\"', 'male', 0,\n",
       "        0, '29107', nan, 'S'],\n",
       "       [47.0, 42.4, 959, 1, 'Moore, Mr. Clarence Bloomfield', 'male', 0,\n",
       "        0, '113796', nan, 'S'],\n",
       "       [38.0, 21.0, 1293, 2, 'Gale, Mr. Harry', 'male', 1, 0, '28664',\n",
       "        nan, 'S'],\n",
       "       [27.0, 7.8875, 1135, 3, 'Hyman, Mr. Abraham', 'male', 0, 0,\n",
       "        '3470', nan, 'S'],\n",
       "       [27.0, 7.55, 1062, 3, 'Lithman, Mr. Simon', 'male', 0, 0,\n",
       "        'S.O./P.P. 251', nan, 'S'],\n",
       "       [7.0, 15.2458, 1053, 3, 'Touma, Master. Georges Youssef', 'male',\n",
       "        1, 1, '2650', nan, 'C'],\n",
       "       [27.0, 7.7333, 1052, 3, 'Smyth, Miss. Julia', 'female', 0, 0,\n",
       "        '335432', nan, 'Q'],\n",
       "       [55.0, 25.7, 969, 1,\n",
       "        'Cornell, Mrs. Robert Clifford (Malvina Helen Lamson)', 'female',\n",
       "        2, 0, '11770', 'C101', 'S'],\n",
       "       [53.0, 28.5, 1023, 1, 'Gracie, Col. Archibald IV', 'male', 0, 0,\n",
       "        '113780', 'C51', 'C'],\n",
       "       [63.0, 221.7792, 1006, 1,\n",
       "        'Straus, Mrs. Isidor (Rosalie Ida Blun)', 'female', 1, 0,\n",
       "        'PC 17483', 'C55 C57', 'S'],\n",
       "       [21.0, 13.0, 1221, 2, 'Enander, Mr. Ingvar', 'male', 0, 0,\n",
       "        '236854', nan, 'S'],\n",
       "       [40.0, 13.0, 1081, 2, 'Veal, Mr. James', 'male', 0, 0, '28221',\n",
       "        nan, 'S'],\n",
       "       [27.0, 7.75, 1119, 3, 'McNeill, Miss. Bridget', 'female', 0, 0,\n",
       "        '370368', nan, 'Q'],\n",
       "       [26.0, 13.775, 1051, 3, 'Peacock, Mrs. Benjamin (Edith Nile)',\n",
       "        'female', 0, 2, 'SOTON/O.Q. 3101315', nan, 'S'],\n",
       "       [24.0, 8.05, 1021, 3, 'Petersen, Mr. Marius', 'male', 0, 0,\n",
       "        '342441', nan, 'S'],\n",
       "       [23.0, 82.2667, 904, 1,\n",
       "        'Snyder, Mrs. John Pillsbury (Nelle Stevenson)', 'female', 1, 0,\n",
       "        '21228', 'B45', 'S'],\n",
       "       [26.0, 7.8792, 1273, 3, 'Foley, Mr. Joseph', 'male', 0, 0,\n",
       "        '330910', nan, 'Q'],\n",
       "       [27.0, 10.7083, 976, 2, 'Lamb, Mr. John Joseph', 'male', 0, 0,\n",
       "        '240261', nan, 'Q'],\n",
       "       [17.0, 7.7333, 1207, 3, 'Hagardon, Miss. Kate', 'female', 0, 0,\n",
       "        'AQ/3. 30631', nan, 'Q'],\n",
       "       [23.0, 7.8542, 1049, 3, 'Lundin, Miss. Olga Elida', 'female', 0,\n",
       "        0, '347469', nan, 'S'],\n",
       "       [2.0, 23.0, 981, 2, 'Wells, Master. Ralph Lester', 'male', 1, 1,\n",
       "        '29103', nan, 'S'],\n",
       "       [62.0, 9.6875, 894, 2, 'Myles, Mr. Thomas Francis', 'male', 0, 0,\n",
       "        '240276', nan, 'Q'],\n",
       "       [50.0, 14.5, 917, 3, 'Robins, Mr. Alexander A', 'male', 1, 0,\n",
       "        'A/5. 3337', nan, 'S'],\n",
       "       [10.0, 29.125, 947, 3, 'Rice, Master. Albert', 'male', 4, 1,\n",
       "        '382652', nan, 'Q'],\n",
       "       [27.0, 69.55, 1257, 3, 'Sage, Mrs. John (Annie Bullen)', 'female',\n",
       "        1, 9, 'CA. 2343', nan, 'S'],\n",
       "       [51.0, 39.4, 1283, 1,\n",
       "        'Lines, Mrs. Ernest H (Elizabeth Lindsey James)', 'female', 0, 1,\n",
       "        'PC 17592', 'D28', 'S'],\n",
       "       [20.0, 7.8542, 1127, 3, 'Vendel, Mr. Olof Edvin', 'male', 0, 0,\n",
       "        '350416', nan, 'S'],\n",
       "       [36.0, 7.25, 1177, 3, 'Dennis, Mr. William', 'male', 0, 0,\n",
       "        'A/5 21175', nan, 'S'],\n",
       "       [48.0, 262.375, 916, 1,\n",
       "        'Ryerson, Mrs. Arthur Larned (Emily Maria Borie)', 'female', 1,\n",
       "        3, 'PC 17608', 'B57 B59 B63 B66', 'C'],\n",
       "       [42.0, 42.5, 1107, 1, 'Head, Mr. Christopher', 'male', 0, 0,\n",
       "        '113038', 'B11', 'S'],\n",
       "       [22.0, 39.6875, 1259, 3,\n",
       "        'Riihivouri, Miss. Susanna Juhantytar Sanni\"\"', 'female', 0, 0,\n",
       "        '3101295', nan, 'S'],\n",
       "       [26.0, 29.0, 899, 2, 'Caldwell, Mr. Albert Francis', 'male', 1, 1,\n",
       "        '248738', nan, 'S'],\n",
       "       [17.0, 8.6625, 1161, 3, 'Pokrnic, Mr. Mate', 'male', 0, 0,\n",
       "        '315095', nan, 'S'],\n",
       "       [27.0, 69.55, 1234, 3, 'Sage, Mr. John George', 'male', 1, 9,\n",
       "        'CA. 2343', nan, 'S'],\n",
       "       [19.0, 15.7417, 1225, 3, 'Nakid, Mrs. Said (Waika Mary\" Mowad)\"',\n",
       "        'female', 1, 1, '2653', nan, 'C'],\n",
       "       [55.0, 27.7208, 1132, 1,\n",
       "        'Lindstrom, Mrs. Carl Johan (Sigrid Posse)', 'female', 0, 0,\n",
       "        '112377', nan, 'C'],\n",
       "       [38.0, 7.775, 1106, 3, 'Andersson, Miss. Ida Augusta Margareta',\n",
       "        'female', 4, 2, '347091', nan, 'S'],\n",
       "       [36.0, 9.5, 1186, 3, 'Wittevrongel, Mr. Camille', 'male', 0, 0,\n",
       "        '345771', nan, 'S'],\n",
       "       [27.0, 7.25, 1178, 3, 'Franklin, Mr. Charles (Charles Fardon)',\n",
       "        'male', 0, 0, 'SOTON/O.Q. 3101314', nan, 'S'],\n",
       "       [27.0, 7.75, 1302, 3, 'Naughton, Miss. Hannah', 'female', 0, 0,\n",
       "        '365237', nan, 'Q'],\n",
       "       [27.0, 7.2292, 1231, 3, 'Betros, Master. Seman', 'male', 0, 0,\n",
       "        '2622', nan, 'C'],\n",
       "       [39.0, 29.7, 1223, 1, 'Dulles, Mr. William Crothers', 'male', 0,\n",
       "        0, 'PC 17580', 'A18', 'C'],\n",
       "       [41.0, 30.5, 920, 1, 'Brady, Mr. John Bertram', 'male', 0, 0,\n",
       "        '113054', 'A21', 'S'],\n",
       "       [38.5, 7.25, 1307, 3, 'Saether, Mr. Simon Sivertsen', 'male', 0,\n",
       "        0, 'SOTON/O.Q. 3101262', nan, 'S'],\n",
       "       [21.0, 6.4958, 1124, 3, 'Wiklund, Mr. Karl Johan', 'male', 1, 0,\n",
       "        '3101266', nan, 'S'],\n",
       "       [40.5, 15.1, 1120, 3, 'Everett, Mr. Thomas James', 'male', 0, 0,\n",
       "        'C.A. 6212', nan, 'S'],\n",
       "       [37.0, 7.75, 1205, 3, 'Carr, Miss. Jeannie', 'female', 0, 0,\n",
       "        '368364', nan, 'Q'],\n",
       "       [14.0, 65.0, 1122, 2, 'Sweet, Mr. George Frederick', 'male', 0, 0,\n",
       "        '220845', nan, 'S'],\n",
       "       [20.0, 36.75, 1068, 2, 'Sincock, Miss. Maude', 'female', 0, 0,\n",
       "        'C.A. 33112', nan, 'S'],\n",
       "       [60.0, 263.0, 961, 1, 'Fortune, Mrs. Mark (Mary McDougald)',\n",
       "        'female', 1, 4, '19950', 'C23 C25 C27', 'S'],\n",
       "       [48.0, 36.75, 1222, 2,\n",
       "        'Davies, Mrs. John Morgan (Elizabeth Agnes Mary White) ',\n",
       "        'female', 0, 2, 'C.A. 33112', nan, 'S'],\n",
       "       [22.0, 10.5, 1114, 2, 'Cook, Mrs. (Selena Rogers)', 'female', 0,\n",
       "        0, 'W./C. 14266', 'F33', 'S'],\n",
       "       [43.0, 55.4417, 992, 1,\n",
       "        'Stengel, Mrs. Charles Emil Henry (Annie May Morris)', 'female',\n",
       "        1, 0, '11778', 'C116', 'C'],\n",
       "       [58.0, 512.3292, 1235, 1,\n",
       "        'Cardeza, Mrs. James Warburton Martinez (Charlotte Wardle Drake)',\n",
       "        'female', 0, 1, 'PC 17755', 'B51 B53 B55', 'C'],\n",
       "       [25.0, 7.8958, 1101, 3, 'Delalic, Mr. Redjo', 'male', 0, 0,\n",
       "        '349250', nan, 'S'],\n",
       "       [44.0, 13.0, 1265, 2, 'Harbeck, Mr. William H', 'male', 0, 0,\n",
       "        '248746', nan, 'S'],\n",
       "       [27.0, 7.2292, 1065, 3, 'Torfa, Mr. Assad', 'male', 0, 0, '2673',\n",
       "        nan, 'C'],\n",
       "       [24.0, 7.75, 962, 3, 'Mulvihill, Miss. Bertha E', 'female', 0, 0,\n",
       "        '382653', nan, 'Q'],\n",
       "       [21.0, 8.6625, 929, 3, 'Cacic, Miss. Manda', 'female', 0, 0,\n",
       "        '315087', nan, 'S'],\n",
       "       [57.0, 164.8667, 1109, 1, 'Wick, Mr. George Dennick', 'male', 1,\n",
       "        1, '36928', nan, 'S'],\n",
       "       [1.0, 16.7, 1009, 3, 'Sandstrom, Miss. Beatrice Irene', 'female',\n",
       "        1, 1, 'PP 9549', 'G6', 'S'],\n",
       "       [24.0, 13.5, 1240, 2, 'Giles, Mr. Ralph', 'male', 0, 0, '248726',\n",
       "        nan, 'S'],\n",
       "       [50.0, 26.0, 922, 2, 'Louch, Mr. Charles Alexander', 'male', 1, 0,\n",
       "        'SC/AH 3085', nan, 'S'],\n",
       "       [40.0, 31.3875, 1066, 3,\n",
       "        'Asplund, Mr. Carl Oscar Vilhelm Gustafsson', 'male', 1, 5,\n",
       "        '347077', nan, 'S'],\n",
       "       [31.0, 28.5375, 960, 1, 'Tucker, Mr. Gilbert Milligan Jr', 'male',\n",
       "        0, 0, '2543', 'C53', 'C'],\n",
       "       [25.0, 10.5, 1096, 2, 'Andrew, Mr. Frank Thomas', 'male', 0, 0,\n",
       "        'C.A. 34050', nan, 'S']], dtype=object)"
      ]
     },
     "execution_count": 66,
     "metadata": {},
     "output_type": "execute_result"
    }
   ],
   "source": [
    "x_test"
   ]
  },
  {
   "cell_type": "code",
   "execution_count": null,
   "id": "fc9859e6",
   "metadata": {},
   "outputs": [],
   "source": []
  }
 ],
 "metadata": {
  "kernelspec": {
   "display_name": "Python 3 (ipykernel)",
   "language": "python",
   "name": "python3"
  },
  "language_info": {
   "codemirror_mode": {
    "name": "ipython",
    "version": 3
   },
   "file_extension": ".py",
   "mimetype": "text/x-python",
   "name": "python",
   "nbconvert_exporter": "python",
   "pygments_lexer": "ipython3",
   "version": "3.10.9"
  }
 },
 "nbformat": 4,
 "nbformat_minor": 5
}
