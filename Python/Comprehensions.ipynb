{
 "cells": [
  {
   "cell_type": "markdown",
   "id": "15e90395",
   "metadata": {},
   "source": [
    "# List Comprehensions\n"
   ]
  },
  {
   "cell_type": "markdown",
   "id": "26139187",
   "metadata": {},
   "source": [
    "# Conditional"
   ]
  },
  {
   "cell_type": "code",
   "execution_count": 6,
   "id": "56bd5185",
   "metadata": {},
   "outputs": [
    {
     "name": "stdout",
     "output_type": "stream",
     "text": [
      "['Brezza', 'Creta']\n"
     ]
    }
   ],
   "source": [
    "cars = [\"Aulto\",\"Brezza\",\"Creta\"]\n",
    "newlist =[x for x in cars if \"a\" in x]\n",
    "print(newlist)"
   ]
  },
  {
   "cell_type": "code",
   "execution_count": 2,
   "id": "818187b8",
   "metadata": {},
   "outputs": [
    {
     "name": "stdout",
     "output_type": "stream",
     "text": [
      "['Aulto', 'Creta']\n"
     ]
    }
   ],
   "source": [
    "cars = [\"Aulto\",\"Brezza\",\"Creta\"]\n",
    "newlist =[ x for x in cars if x!=\"Brezza\"]\n",
    "print(newlist)"
   ]
  },
  {
   "cell_type": "code",
   "execution_count": 3,
   "id": "452e6d05",
   "metadata": {},
   "outputs": [
    {
     "name": "stdout",
     "output_type": "stream",
     "text": [
      "['Aulto', 'Creta']\n"
     ]
    }
   ],
   "source": [
    "cars = [\"Aulto\",\"Brezza\",\"Creta\"]\n",
    "newlist = [x for x in cars if \"z\" not in x]\n",
    "print(newlist)"
   ]
  },
  {
   "cell_type": "markdown",
   "id": "aae3b5bf",
   "metadata": {},
   "source": [
    "# Itterable"
   ]
  },
  {
   "cell_type": "code",
   "execution_count": 4,
   "id": "f58a2569",
   "metadata": {},
   "outputs": [
    {
     "name": "stdout",
     "output_type": "stream",
     "text": [
      "[0, 1, 2, 3, 4, 5, 6, 7, 8, 9]\n"
     ]
    }
   ],
   "source": [
    "a = [x for x in range(0,10)]\n",
    "print(a)"
   ]
  },
  {
   "cell_type": "code",
   "execution_count": 7,
   "id": "ce5feeca",
   "metadata": {},
   "outputs": [
    {
     "name": "stdout",
     "output_type": "stream",
     "text": [
      "[0, 2, 4, 6, 8]\n"
     ]
    }
   ],
   "source": [
    "a = [x for x in range(0,10) if x%2 == 0]\n",
    "print(a)"
   ]
  },
  {
   "cell_type": "markdown",
   "id": "324931aa",
   "metadata": {},
   "source": [
    "# Return Zen in case of Aulto"
   ]
  },
  {
   "cell_type": "code",
   "execution_count": 8,
   "id": "adeadb96",
   "metadata": {},
   "outputs": [
    {
     "name": "stdout",
     "output_type": "stream",
     "text": [
      "['Zen', 'Brezza', 'Creta']\n"
     ]
    }
   ],
   "source": [
    "newlist =[x if x!=\"Aulto\" else \"Zen\" for x in cars]\n",
    "print(newlist)"
   ]
  },
  {
   "cell_type": "markdown",
   "id": "7f8bb22f",
   "metadata": {},
   "source": [
    "# Expressions"
   ]
  },
  {
   "cell_type": "code",
   "execution_count": 9,
   "id": "7a0e329f",
   "metadata": {},
   "outputs": [
    {
     "name": "stdout",
     "output_type": "stream",
     "text": [
      "['AULTO', 'BREZZA', 'CRETA']\n"
     ]
    }
   ],
   "source": [
    "newlist = [x.upper() for x in cars]\n",
    "print(newlist)"
   ]
  },
  {
   "cell_type": "code",
   "execution_count": 40,
   "id": "040e5151",
   "metadata": {},
   "outputs": [
    {
     "name": "stdout",
     "output_type": "stream",
     "text": [
      "['Null', 'Null', 'Null']\n"
     ]
    }
   ],
   "source": [
    "#set the outcome in new list 'Null'\n",
    "newlist = ['Null' for x in cars]\n",
    "print(newlist)"
   ]
  },
  {
   "cell_type": "code",
   "execution_count": 21,
   "id": "2e8e2b7e",
   "metadata": {},
   "outputs": [
    {
     "name": "stdout",
     "output_type": "stream",
     "text": [
      "[['Aulto', 'Brezza', 'Creta', 0, 2, 4, 6, 8]]\n"
     ]
    }
   ],
   "source": [
    "cars = [\"Aulto\",\"Brezza\",\"Creta\"]\n",
    "a = [x for x in range(0,10) if x%2 == 0]\n",
    "newlist = [cars + a]\n",
    "print(newlist)"
   ]
  },
  {
   "cell_type": "markdown",
   "id": "24d51a12",
   "metadata": {},
   "source": [
    "# Dictionaries"
   ]
  },
  {
   "cell_type": "code",
   "execution_count": 5,
   "id": "12d3453a",
   "metadata": {},
   "outputs": [
    {
     "name": "stdout",
     "output_type": "stream",
     "text": [
      "Ford\n",
      "Mustang\n",
      "dict_keys(['car', 'bike', 'year'])\n",
      "{'car': 'Ford', 'bike': 'Honda', 'year': 1964, 'truck': 'Bharath Benze'}\n",
      "{'car': 'Ford', 'bike': 'Honda', 'year': 1964}\n",
      "{'car': 'Ford', 'bike': 'Honda'}\n"
     ]
    }
   ],
   "source": [
    "#Accesing\n",
    "vehicles = {\"car\": \"Ford\",\"bike\": \"Mustang\",\"year\": 1964}\n",
    "print(vehicles[\"car\"])\n",
    "print(vehicles.get(\"bike\"))\n",
    "print(vehicles.keys())\n",
    "vehicles.update({\"bike\": \"Honda\"})\n",
    "vehicles[\"truck\"] = \"Bharath Benze\"\n",
    "print(vehicles)\n",
    "vehicles.popitem()\n",
    "print(vehicles)\n",
    "del vehicles[\"year\"]\n",
    "print(vehicles)"
   ]
  },
  {
   "cell_type": "code",
   "execution_count": 58,
   "id": "1174fad8",
   "metadata": {},
   "outputs": [
    {
     "name": "stdout",
     "output_type": "stream",
     "text": [
      "Enter key and value: name ram\n",
      "Enter key and value: age 30\n",
      "Enter key and value: gender male\n",
      "{'nam': 'ram', 'age': '30', 'gender': 'm'}\n"
     ]
    }
   ],
   "source": [
    "def dicts(n):\n",
    "    d = dict(input(\"Enter key and value: \").split() for _ in range(n))\n",
    "\n",
    "dicts(3)\n",
    "print(d)"
   ]
  },
  {
   "cell_type": "code",
   "execution_count": 59,
   "id": "fa0f5c35",
   "metadata": {},
   "outputs": [
    {
     "name": "stdout",
     "output_type": "stream",
     "text": [
      "ram\n",
      "30\n",
      "m\n"
     ]
    }
   ],
   "source": [
    "for x in d:\n",
    "    print(d[x])"
   ]
  },
  {
   "cell_type": "code",
   "execution_count": 60,
   "id": "2d3f1084",
   "metadata": {},
   "outputs": [
    {
     "name": "stdout",
     "output_type": "stream",
     "text": [
      "nam\n",
      "age\n",
      "gender\n"
     ]
    }
   ],
   "source": [
    "for x in d:\n",
    "    print(x)"
   ]
  },
  {
   "cell_type": "code",
   "execution_count": 63,
   "id": "e1adcf9a",
   "metadata": {},
   "outputs": [
    {
     "name": "stdout",
     "output_type": "stream",
     "text": [
      "dict_items([('nam', 'ram'), ('age', '30'), ('gender', 'm')])\n"
     ]
    }
   ],
   "source": [
    "print(d.items())"
   ]
  },
  {
   "cell_type": "code",
   "execution_count": 64,
   "id": "d9153a49",
   "metadata": {},
   "outputs": [
    {
     "name": "stdout",
     "output_type": "stream",
     "text": [
      "{'nam': 'ram', 'age': '30', 'gender': 'm'}\n"
     ]
    }
   ],
   "source": [
    "print(d)"
   ]
  },
  {
   "cell_type": "code",
   "execution_count": 66,
   "id": "c6a4e13f",
   "metadata": {},
   "outputs": [
    {
     "name": "stdout",
     "output_type": "stream",
     "text": [
      "{'nam': 'ram', 'age': '30', 'gender': 'm'}\n"
     ]
    }
   ],
   "source": [
    "a=dict(d)\n",
    "print(a)"
   ]
  },
  {
   "cell_type": "code",
   "execution_count": 72,
   "id": "c7b1af41",
   "metadata": {},
   "outputs": [
    {
     "name": "stdout",
     "output_type": "stream",
     "text": [
      "Tobias\n"
     ]
    }
   ],
   "source": [
    "nam = {\"z\" : {\"name\" : \"Emil\",\"year\" : 2004},\"x\" :  {\"name\" : \"Tobias\",\"year\" : 2007},\"c\" : {\"name\" : \"Linus\",\"year\" : 2011}}\n",
    "print(nam[\"x\"][\"name\"])"
   ]
  },
  {
   "cell_type": "code",
   "execution_count": 3,
   "id": "6600d26d",
   "metadata": {},
   "outputs": [
    {
     "name": "stdout",
     "output_type": "stream",
     "text": [
      "{'x': (0, 1, 2), 'y': (0, 1, 2), 'z': (0, 1, 2)}\n"
     ]
    }
   ],
   "source": [
    "x=(\"x\",\"y\",\"z\")\n",
    "y=0,1,2\n",
    "z=dict.fromkeys(x,y)\n",
    "print(z)"
   ]
  },
  {
   "cell_type": "code",
   "execution_count": null,
   "id": "bff8eb31",
   "metadata": {},
   "outputs": [],
   "source": []
  }
 ],
 "metadata": {
  "kernelspec": {
   "display_name": "Python 3 (ipykernel)",
   "language": "python",
   "name": "python3"
  },
  "language_info": {
   "codemirror_mode": {
    "name": "ipython",
    "version": 3
   },
   "file_extension": ".py",
   "mimetype": "text/x-python",
   "name": "python",
   "nbconvert_exporter": "python",
   "pygments_lexer": "ipython3",
   "version": "3.10.9"
  }
 },
 "nbformat": 4,
 "nbformat_minor": 5
}
