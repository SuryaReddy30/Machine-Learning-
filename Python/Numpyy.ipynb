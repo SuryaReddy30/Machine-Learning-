{
 "cells": [
  {
   "cell_type": "code",
   "execution_count": 5,
   "id": "b7cf863f",
   "metadata": {},
   "outputs": [
    {
     "name": "stdout",
     "output_type": "stream",
     "text": [
      "[[1 2 3]\n",
      " [4 5 6]]\n"
     ]
    }
   ],
   "source": [
    "import numpy as np\n",
    "lst=[1,2,3]\n",
    "lst1=[4,5,6]\n",
    "arr=np.array([lst,lst1])\n",
    "print(arr)"
   ]
  },
  {
   "cell_type": "code",
   "execution_count": 7,
   "id": "7b280a89",
   "metadata": {},
   "outputs": [
    {
     "data": {
      "text/plain": [
       "(2, 3)"
      ]
     },
     "execution_count": 7,
     "metadata": {},
     "output_type": "execute_result"
    }
   ],
   "source": [
    "arr.shape"
   ]
  },
  {
   "cell_type": "code",
   "execution_count": 8,
   "id": "9bd5c672",
   "metadata": {},
   "outputs": [
    {
     "data": {
      "text/plain": [
       "array([[1, 2],\n",
       "       [3, 4],\n",
       "       [5, 6]])"
      ]
     },
     "execution_count": 8,
     "metadata": {},
     "output_type": "execute_result"
    }
   ],
   "source": [
    "arr.reshape(3,2)"
   ]
  },
  {
   "cell_type": "code",
   "execution_count": 11,
   "id": "44dcb3a3",
   "metadata": {},
   "outputs": [
    {
     "data": {
      "text/plain": [
       "array([[2, 3],\n",
       "       [5, 6]])"
      ]
     },
     "execution_count": 11,
     "metadata": {},
     "output_type": "execute_result"
    }
   ],
   "source": [
    "arr[0:,1:]"
   ]
  },
  {
   "cell_type": "code",
   "execution_count": 12,
   "id": "b1a549c4",
   "metadata": {},
   "outputs": [
    {
     "data": {
      "text/plain": [
       "array([[1, 2, 3]])"
      ]
     },
     "execution_count": 12,
     "metadata": {},
     "output_type": "execute_result"
    }
   ],
   "source": [
    "arr[:1,0:]"
   ]
  },
  {
   "cell_type": "code",
   "execution_count": 36,
   "id": "d9bcad2d",
   "metadata": {},
   "outputs": [
    {
     "name": "stdout",
     "output_type": "stream",
     "text": [
      "[0 2 4 6 8]\n"
     ]
    }
   ],
   "source": [
    "arr2=np.arange(0,10,2)\n",
    "print(arr2)"
   ]
  },
  {
   "cell_type": "code",
   "execution_count": 17,
   "id": "df0ff2cf",
   "metadata": {},
   "outputs": [
    {
     "data": {
      "text/plain": [
       "array([[0.39234548, 0.97844037, 0.35608035],\n",
       "       [0.29429334, 0.36106332, 0.03581078],\n",
       "       [0.72031364, 0.38006733, 0.94384367]])"
      ]
     },
     "execution_count": 17,
     "metadata": {},
     "output_type": "execute_result"
    }
   ],
   "source": [
    "#Random Distribution prints only in b/w 0-1\n",
    "np.random.rand(3,3)"
   ]
  },
  {
   "cell_type": "code",
   "execution_count": 18,
   "id": "82bc6749",
   "metadata": {},
   "outputs": [
    {
     "data": {
      "text/plain": [
       "array([[-0.56785298, -2.181618  , -0.93199031],\n",
       "       [-1.18543529, -0.06529801, -1.65684821],\n",
       "       [-0.85237387, -1.31803316, -0.42187285]])"
      ]
     },
     "execution_count": 18,
     "metadata": {},
     "output_type": "execute_result"
    }
   ],
   "source": [
    "#Standard Normal Distribution\n",
    "np.random.randn(3,3)"
   ]
  },
  {
   "cell_type": "code",
   "execution_count": 26,
   "id": "25980075",
   "metadata": {},
   "outputs": [
    {
     "name": "stdout",
     "output_type": "stream",
     "text": [
      "[[  1 100 100]\n",
      " [  4 100 100]]\n",
      "\n",
      "\n",
      "[[  1 100 100]\n",
      " [  4 100 100]]\n",
      "\n",
      "\n",
      "[[  1 100 100]\n",
      " [  4 100 100]]\n"
     ]
    }
   ],
   "source": [
    "x=arr\n",
    "print(x)\n",
    "print(\"\\n\")\n",
    "x[0:,1:]=100\n",
    "print(x)\n",
    "print(\"\\n\")\n",
    "print(arr)"
   ]
  },
  {
   "cell_type": "code",
   "execution_count": 28,
   "id": "99167b4e",
   "metadata": {},
   "outputs": [
    {
     "name": "stdout",
     "output_type": "stream",
     "text": [
      "[[  1 100 100]\n",
      " [  4 100 100]]\n",
      "\n",
      "\n",
      "[[  1 500 500]\n",
      " [  4 500 500]]\n",
      "\n",
      "\n",
      "[[  1 100 100]\n",
      " [  4 100 100]]\n"
     ]
    }
   ],
   "source": [
    "x=arr.copy()\n",
    "print(x)\n",
    "print(\"\\n\")\n",
    "x[0:,1:]=500\n",
    "print(x)\n",
    "print(\"\\n\")\n",
    "print(arr)"
   ]
  },
  {
   "cell_type": "code",
   "execution_count": 31,
   "id": "d25b0771",
   "metadata": {},
   "outputs": [
    {
     "name": "stdout",
     "output_type": "stream",
     "text": [
      "[1 1 1 1]\n"
     ]
    }
   ],
   "source": [
    "x=np.ones(4,dtype=\"int\")\n",
    "print(x)"
   ]
  },
  {
   "cell_type": "code",
   "execution_count": 38,
   "id": "d7d4e82e",
   "metadata": {},
   "outputs": [
    {
     "data": {
      "text/plain": [
       "array([ 1.        ,  1.18367347,  1.36734694,  1.55102041,  1.73469388,\n",
       "        1.91836735,  2.10204082,  2.28571429,  2.46938776,  2.65306122,\n",
       "        2.83673469,  3.02040816,  3.20408163,  3.3877551 ,  3.57142857,\n",
       "        3.75510204,  3.93877551,  4.12244898,  4.30612245,  4.48979592,\n",
       "        4.67346939,  4.85714286,  5.04081633,  5.2244898 ,  5.40816327,\n",
       "        5.59183673,  5.7755102 ,  5.95918367,  6.14285714,  6.32653061,\n",
       "        6.51020408,  6.69387755,  6.87755102,  7.06122449,  7.24489796,\n",
       "        7.42857143,  7.6122449 ,  7.79591837,  7.97959184,  8.16326531,\n",
       "        8.34693878,  8.53061224,  8.71428571,  8.89795918,  9.08163265,\n",
       "        9.26530612,  9.44897959,  9.63265306,  9.81632653, 10.        ])"
      ]
     },
     "execution_count": 38,
     "metadata": {},
     "output_type": "execute_result"
    }
   ],
   "source": [
    "np.linspace(1,10,50)"
   ]
  },
  {
   "cell_type": "code",
   "execution_count": 20,
   "id": "678dea78",
   "metadata": {},
   "outputs": [
    {
     "name": "stdout",
     "output_type": "stream",
     "text": [
      "[1 2 3 4 5 6 7 8]\n",
      "[array([1, 2, 3]), array([4, 5, 6]), array([7, 8])]\n",
      "(array([3], dtype=int64),)\n",
      "[4 5 6]\n",
      "[False  True  True]\n"
     ]
    }
   ],
   "source": [
    "import numpy as np\n",
    "arr1=[1,2,3]\n",
    "arr2=[5,4,6]\n",
    "arr3=np.array([1,2,3,4,5,6,7,8])\n",
    "\n",
    "print(arr3)\n",
    "newarr = np.array_split(arr3, 3)\n",
    "print(newarr)\n",
    "x=np.where(arr==4)\n",
    "print(x)\n",
    "y=np.sort(arr2)\n",
    "print(y)\n",
    "arr4=np.array([True , False, True])\n",
    "print(np.sort(arr4))"
   ]
  },
  {
   "cell_type": "code",
   "execution_count": 25,
   "id": "dbb30d7d",
   "metadata": {},
   "outputs": [
    {
     "name": "stdout",
     "output_type": "stream",
     "text": [
      "[1 3 4 6 8]\n"
     ]
    }
   ],
   "source": [
    "import numpy as np\n",
    "arr3=np.array([1,2,3,4,5,6,7,8])\n",
    "x=arr3[[True,False,True,True,False,True,False,True,]]\n",
    "print(x)"
   ]
  },
  {
   "cell_type": "code",
   "execution_count": 26,
   "id": "9311a855",
   "metadata": {},
   "outputs": [
    {
     "name": "stdout",
     "output_type": "stream",
     "text": [
      "[49 55]\n"
     ]
    }
   ],
   "source": [
    "import numpy as np\n",
    "q = np.array([30,40,37,49,55])\n",
    "new=[]\n",
    "for i in q:\n",
    "    if i>40:\n",
    "        new.append(True)\n",
    "    else:\n",
    "        new.append(False)\n",
    "y=q[new]\n",
    "print(y)"
   ]
  },
  {
   "cell_type": "code",
   "execution_count": null,
   "id": "cb7d7099",
   "metadata": {},
   "outputs": [],
   "source": []
  },
  {
   "cell_type": "code",
   "execution_count": null,
   "id": "39ec2ce4",
   "metadata": {},
   "outputs": [],
   "source": []
  }
 ],
 "metadata": {
  "kernelspec": {
   "display_name": "Python 3 (ipykernel)",
   "language": "python",
   "name": "python3"
  },
  "language_info": {
   "codemirror_mode": {
    "name": "ipython",
    "version": 3
   },
   "file_extension": ".py",
   "mimetype": "text/x-python",
   "name": "python",
   "nbconvert_exporter": "python",
   "pygments_lexer": "ipython3",
   "version": "3.10.9"
  }
 },
 "nbformat": 4,
 "nbformat_minor": 5
}
