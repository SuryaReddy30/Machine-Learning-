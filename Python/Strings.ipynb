{
 "cells": [
  {
   "cell_type": "markdown",
   "id": "b14cfd1b",
   "metadata": {},
   "source": [
    "# String Slicing\n"
   ]
  },
  {
   "cell_type": "code",
   "execution_count": 3,
   "id": "4ff1673a",
   "metadata": {},
   "outputs": [
    {
     "name": "stdout",
     "output_type": "stream",
     "text": [
      "ello Wo\n"
     ]
    }
   ],
   "source": [
    "b =\"Hello World\"\n",
    "print(a[1:8])"
   ]
  },
  {
   "cell_type": "code",
   "execution_count": 4,
   "id": "de6f749b",
   "metadata": {},
   "outputs": [
    {
     "name": "stdout",
     "output_type": "stream",
     "text": [
      "Hello Wo\n"
     ]
    }
   ],
   "source": [
    "#slice from start\n",
    "print(b[:8])"
   ]
  },
  {
   "cell_type": "code",
   "execution_count": 5,
   "id": "09349947",
   "metadata": {},
   "outputs": [
    {
     "name": "stdout",
     "output_type": "stream",
     "text": [
      "lo World\n"
     ]
    }
   ],
   "source": [
    "#slice to end\n",
    "print(b[3:])"
   ]
  },
  {
   "cell_type": "code",
   "execution_count": 12,
   "id": "2117f744",
   "metadata": {},
   "outputs": [
    {
     "name": "stdout",
     "output_type": "stream",
     "text": [
      "rld\n"
     ]
    }
   ],
   "source": [
    "#Negative slicing\n",
    "b =\"  Hello World  \"\n",
    "print(b[-5:-2])"
   ]
  },
  {
   "cell_type": "code",
   "execution_count": 13,
   "id": "eda76434",
   "metadata": {},
   "outputs": [
    {
     "name": "stdout",
     "output_type": "stream",
     "text": [
      "Hello World\n"
     ]
    }
   ],
   "source": [
    "#Remove Whitespaces at begning & ending\n",
    "print(b.strip())"
   ]
  },
  {
   "cell_type": "code",
   "execution_count": 14,
   "id": "9556f1a9",
   "metadata": {},
   "outputs": [
    {
     "name": "stdout",
     "output_type": "stream",
     "text": [
      "  Jello World  \n"
     ]
    }
   ],
   "source": [
    "#Replacing a Char whith Char in a string\n",
    "print(b.replace(\"H\",\"J\"))"
   ]
  },
  {
   "cell_type": "code",
   "execution_count": 16,
   "id": "d67eda05",
   "metadata": {},
   "outputs": [
    {
     "name": "stdout",
     "output_type": "stream",
     "text": [
      "['Hello', 'World']\n"
     ]
    }
   ],
   "source": [
    "Spliting string into list\n",
    "print(b.split())"
   ]
  },
  {
   "cell_type": "code",
   "execution_count": 17,
   "id": "00473717",
   "metadata": {},
   "outputs": [
    {
     "name": "stdout",
     "output_type": "stream",
     "text": [
      "Hello World\n"
     ]
    }
   ],
   "source": [
    "#concatenate string\n",
    "a = \"Hello\"\n",
    "b = \"World\"\n",
    "c = a + \" \" + b\n",
    "print(c)"
   ]
  },
  {
   "cell_type": "markdown",
   "id": "784d496f",
   "metadata": {},
   "source": [
    "#  Format String "
   ]
  },
  {
   "cell_type": "code",
   "execution_count": 18,
   "id": "3310c2c9",
   "metadata": {},
   "outputs": [
    {
     "name": "stdout",
     "output_type": "stream",
     "text": [
      " My age is 36\n"
     ]
    }
   ],
   "source": [
    "age =36\n",
    "txt = \" My age is {}\"\n",
    "print(txt.format(age))"
   ]
  },
  {
   "cell_type": "code",
   "execution_count": 20,
   "id": "a3e99466",
   "metadata": {},
   "outputs": [
    {
     "name": "stdout",
     "output_type": "stream",
     "text": [
      "I want to pay 537 doors for 3 pieces of items 4\n"
     ]
    }
   ],
   "source": [
    "quantity =3\n",
    "noitems = 4\n",
    "price = 537\n",
    "txt = \"I want to pay {2} doors for {0} pieces of items {1}\"\n",
    "print(txt.format(quantity,noitems,price))"
   ]
  },
  {
   "cell_type": "markdown",
   "id": "6fc527f8",
   "metadata": {},
   "source": [
    "# Escape Characters"
   ]
  },
  {
   "cell_type": "code",
   "execution_count": 21,
   "id": "88c2ba70",
   "metadata": {},
   "outputs": [
    {
     "name": "stdout",
     "output_type": "stream",
     "text": [
      "Hello\n",
      "World\n"
     ]
    }
   ],
   "source": [
    "txt = \"Hello\\nWorld\"\n",
    "print(txt)"
   ]
  },
  {
   "cell_type": "code",
   "execution_count": 25,
   "id": "f42ae3c9",
   "metadata": {},
   "outputs": [
    {
     "name": "stdout",
     "output_type": "stream",
     "text": [
      "Hello \r",
      "World!\n"
     ]
    }
   ],
   "source": [
    "txt =\"Hello \\rWorld!\"\n",
    "print(txt)"
   ]
  },
  {
   "cell_type": "code",
   "execution_count": 26,
   "id": "76c485ee",
   "metadata": {},
   "outputs": [
    {
     "name": "stdout",
     "output_type": "stream",
     "text": [
      "Hello\tworld\n"
     ]
    }
   ],
   "source": [
    "txt =\"Hello\\tworld\"\n",
    "print(txt)"
   ]
  },
  {
   "cell_type": "code",
   "execution_count": 27,
   "id": "7ff5d2ab",
   "metadata": {},
   "outputs": [
    {
     "name": "stdout",
     "output_type": "stream",
     "text": [
      "Hello\bworld\n"
     ]
    }
   ],
   "source": [
    "txt =\"Hello\\bworld\"\n",
    "print(txt)"
   ]
  },
  {
   "cell_type": "code",
   "execution_count": 28,
   "id": "94585281",
   "metadata": {},
   "outputs": [
    {
     "name": "stdout",
     "output_type": "stream",
     "text": [
      "Hello\n"
     ]
    }
   ],
   "source": [
    "txt = \"\\110\\145\\154\\154\\157\"\n",
    "print(txt)"
   ]
  },
  {
   "cell_type": "code",
   "execution_count": 30,
   "id": "b6491af5",
   "metadata": {},
   "outputs": [
    {
     "name": "stdout",
     "output_type": "stream",
     "text": [
      "Hello\n"
     ]
    }
   ],
   "source": [
    "txt=\"\\x48\\x65\\x6c\\x6c\\x6f\"\n",
    "print(txt)"
   ]
  },
  {
   "cell_type": "code",
   "execution_count": 50,
   "id": "f5d6efa2",
   "metadata": {},
   "outputs": [
    {
     "name": "stdout",
     "output_type": "stream",
     "text": [
      "HELLO WORLD\n",
      "hello world\n",
      "True\n",
      "False\n",
      "2\n",
      "True\n",
      "4\n",
      "7\n",
      "8\n"
     ]
    }
   ],
   "source": [
    "a = \"hello world\"\n",
    "print(a.upper())\n",
    "print(a.lower())\n",
    "print(a.islower())\n",
    "print(a.isupper())\n",
    "print(a.count(\"o\"))\n",
    "print(a.endswith(\"d\"))\n",
    "print(a.find(\"o\"))\n",
    "print(a.rfind(\"o\"))\n",
    "print(a.index(\"r\"))"
   ]
  },
  {
   "cell_type": "code",
   "execution_count": 51,
   "id": "c68ba7bc",
   "metadata": {},
   "outputs": [
    {
     "name": "stdout",
     "output_type": "stream",
     "text": [
      "The strings are equal.\n"
     ]
    }
   ],
   "source": [
    "#Case fold\n",
    "string1 = \"Hello, World!\"\n",
    "string2 = \"hello, world!\"\n",
    "\n",
    "if string1.casefold() == string2.casefold():\n",
    "    print(\"The strings are equal.\")\n",
    "else:\n",
    "    print(\"The strings are not equal.\")\n"
   ]
  },
  {
   "cell_type": "code",
   "execution_count": null,
   "id": "9cb37a57",
   "metadata": {},
   "outputs": [],
   "source": []
  }
 ],
 "metadata": {
  "kernelspec": {
   "display_name": "Python 3 (ipykernel)",
   "language": "python",
   "name": "python3"
  },
  "language_info": {
   "codemirror_mode": {
    "name": "ipython",
    "version": 3
   },
   "file_extension": ".py",
   "mimetype": "text/x-python",
   "name": "python",
   "nbconvert_exporter": "python",
   "pygments_lexer": "ipython3",
   "version": "3.10.9"
  }
 },
 "nbformat": 4,
 "nbformat_minor": 5
}
