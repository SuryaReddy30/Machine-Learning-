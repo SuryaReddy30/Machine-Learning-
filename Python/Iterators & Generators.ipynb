{
 "cells": [
  {
   "cell_type": "code",
   "execution_count": 10,
   "id": "922b9260",
   "metadata": {},
   "outputs": [
    {
     "name": "stdout",
     "output_type": "stream",
     "text": [
      "1\n",
      "2\n",
      "3\n",
      "For loop starts from begning\n",
      "1\n",
      "2\n",
      "3\n",
      "4\n"
     ]
    }
   ],
   "source": [
    "nums=[1,2,3,4]\n",
    "it=iter(nums)\n",
    "print(it.__next__())\n",
    "print(it.__next__())\n",
    "print(next(it))\n",
    "\n",
    "print(\"For loop starts from begning\")\n",
    "for i in nums:\n",
    "    print(i)"
   ]
  },
  {
   "cell_type": "markdown",
   "id": "a2a3fafb",
   "metadata": {},
   "source": [
    "# Creating own iterator\n"
   ]
  },
  {
   "cell_type": "code",
   "execution_count": 15,
   "id": "52043563",
   "metadata": {},
   "outputs": [
    {
     "name": "stdout",
     "output_type": "stream",
     "text": [
      "1\n",
      "2\n"
     ]
    }
   ],
   "source": [
    "class itor:\n",
    "    def __init__(self):\n",
    "        self.n=1\n",
    "    def __iter__(self):\n",
    "        return self\n",
    "    def __next__(self):\n",
    "        if self.n<=10:\n",
    "            val=self.n\n",
    "            self.n+=1\n",
    "            return val\n",
    "        else:\n",
    "            raise StopIteration\n",
    "values = itor()\n",
    "print(next(values))\n",
    "print(next(values))"
   ]
  },
  {
   "cell_type": "markdown",
   "id": "4b23c409",
   "metadata": {},
   "source": [
    "# Generators"
   ]
  },
  {
   "cell_type": "code",
   "execution_count": 13,
   "id": "f45bde93",
   "metadata": {},
   "outputs": [
    {
     "name": "stdout",
     "output_type": "stream",
     "text": [
      "5\n",
      "0\n",
      "1\n",
      "4\n",
      "9\n",
      "16\n",
      "25\n"
     ]
    }
   ],
   "source": [
    "# Perfect Squares\n",
    "def sq(n):\n",
    "    i=0\n",
    "    while(i<=n):\n",
    "        x = i**2\n",
    "        yield x\n",
    "        i=i+1\n",
    "n=int(input())\n",
    "y=sq(n)\n",
    "for i in y:\n",
    "    print(i)"
   ]
  },
  {
   "cell_type": "code",
   "execution_count": 21,
   "id": "9b46d9ac",
   "metadata": {},
   "outputs": [
    {
     "name": "stdout",
     "output_type": "stream",
     "text": [
      "0\n",
      "1\n",
      "2\n"
     ]
    }
   ],
   "source": [
    "def my_generator(n):\n",
    "\n",
    "    # initialize counter\n",
    "    value = 0\n",
    "\n",
    "    # loop until counter is less than n\n",
    "    while value < n:\n",
    "\n",
    "        # produce the current value of the counter\n",
    "        yield value\n",
    "\n",
    "        # increment the counter\n",
    "        value += 1\n",
    "\n",
    "# iterate over the generator object produced by my_generator\n",
    "for value in my_generator(3):\n",
    "\n",
    "    # print each value produced by generator\n",
    "    print(value)\n",
    "        "
   ]
  },
  {
   "cell_type": "code",
   "execution_count": null,
   "id": "7d63582f",
   "metadata": {},
   "outputs": [],
   "source": []
  }
 ],
 "metadata": {
  "kernelspec": {
   "display_name": "Python 3 (ipykernel)",
   "language": "python",
   "name": "python3"
  },
  "language_info": {
   "codemirror_mode": {
    "name": "ipython",
    "version": 3
   },
   "file_extension": ".py",
   "mimetype": "text/x-python",
   "name": "python",
   "nbconvert_exporter": "python",
   "pygments_lexer": "ipython3",
   "version": "3.10.9"
  }
 },
 "nbformat": 4,
 "nbformat_minor": 5
}
