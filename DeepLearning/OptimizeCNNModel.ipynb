{
 "cells": [
  {
   "cell_type": "code",
   "execution_count": 7,
   "id": "a8703fa0",
   "metadata": {},
   "outputs": [
    {
     "name": "stdout",
     "output_type": "stream",
     "text": [
      "Defaulting to user installation because normal site-packages is not writeable\n",
      "Collecting keras.tuner\n",
      "  Downloading keras_tuner-1.4.3-py3-none-any.whl (127 kB)\n",
      "     -------------------------------------- 127.9/127.9 kB 3.8 MB/s eta 0:00:00\n",
      "Requirement already satisfied: requests in c:\\programdata\\anaconda3\\lib\\site-packages (from keras.tuner) (2.28.1)\n",
      "Collecting keras-core\n",
      "  Downloading keras_core-0.1.7-py3-none-any.whl (950 kB)\n",
      "     -------------------------------------- 950.8/950.8 kB 4.0 MB/s eta 0:00:00\n",
      "Requirement already satisfied: packaging in c:\\users\\surya reddy\\appdata\\roaming\\python\\python310\\site-packages (from keras.tuner) (23.1)\n",
      "Collecting kt-legacy\n",
      "  Downloading kt_legacy-1.0.5-py3-none-any.whl (9.6 kB)\n",
      "Collecting namex\n",
      "  Downloading namex-0.0.7-py3-none-any.whl (5.8 kB)\n",
      "Requirement already satisfied: numpy in c:\\users\\surya reddy\\appdata\\roaming\\python\\python310\\site-packages (from keras-core->keras.tuner) (1.26.0)\n",
      "Collecting rich\n",
      "  Downloading rich-13.6.0-py3-none-any.whl (239 kB)\n",
      "     -------------------------------------- 239.8/239.8 kB 3.6 MB/s eta 0:00:00\n",
      "Collecting dm-tree\n",
      "  Downloading dm_tree-0.1.8-cp310-cp310-win_amd64.whl (101 kB)\n",
      "     -------------------------------------- 101.3/101.3 kB 2.9 MB/s eta 0:00:00\n",
      "Requirement already satisfied: absl-py in c:\\users\\surya reddy\\appdata\\roaming\\python\\python310\\site-packages (from keras-core->keras.tuner) (2.0.0)\n",
      "Requirement already satisfied: h5py in c:\\programdata\\anaconda3\\lib\\site-packages (from keras-core->keras.tuner) (3.7.0)\n",
      "Requirement already satisfied: urllib3<1.27,>=1.21.1 in c:\\programdata\\anaconda3\\lib\\site-packages (from requests->keras.tuner) (1.26.14)\n",
      "Requirement already satisfied: charset-normalizer<3,>=2 in c:\\programdata\\anaconda3\\lib\\site-packages (from requests->keras.tuner) (2.0.4)\n",
      "Requirement already satisfied: certifi>=2017.4.17 in c:\\programdata\\anaconda3\\lib\\site-packages (from requests->keras.tuner) (2022.12.7)\n",
      "Requirement already satisfied: idna<4,>=2.5 in c:\\programdata\\anaconda3\\lib\\site-packages (from requests->keras.tuner) (3.4)\n",
      "Collecting markdown-it-py>=2.2.0\n",
      "  Downloading markdown_it_py-3.0.0-py3-none-any.whl (87 kB)\n",
      "     ---------------------------------------- 87.5/87.5 kB 4.8 MB/s eta 0:00:00\n",
      "Collecting pygments<3.0.0,>=2.13.0\n",
      "  Downloading Pygments-2.16.1-py3-none-any.whl (1.2 MB)\n",
      "     ---------------------------------------- 1.2/1.2 MB 3.7 MB/s eta 0:00:00\n",
      "Collecting mdurl~=0.1\n",
      "  Downloading mdurl-0.1.2-py3-none-any.whl (10.0 kB)\n",
      "Installing collected packages: namex, kt-legacy, dm-tree, pygments, mdurl, markdown-it-py, rich, keras-core, keras.tuner\n",
      "Successfully installed dm-tree-0.1.8 keras-core-0.1.7 keras.tuner-1.4.3 kt-legacy-1.0.5 markdown-it-py-3.0.0 mdurl-0.1.2 namex-0.0.7 pygments-2.16.1 rich-13.6.0\n"
     ]
    },
    {
     "name": "stderr",
     "output_type": "stream",
     "text": [
      "  WARNING: The script pygmentize.exe is installed in 'C:\\Users\\Surya Reddy\\AppData\\Roaming\\Python\\Python310\\Scripts' which is not on PATH.\n",
      "  Consider adding this directory to PATH or, if you prefer to suppress this warning, use --no-warn-script-location.\n",
      "  WARNING: The script markdown-it.exe is installed in 'C:\\Users\\Surya Reddy\\AppData\\Roaming\\Python\\Python310\\Scripts' which is not on PATH.\n",
      "  Consider adding this directory to PATH or, if you prefer to suppress this warning, use --no-warn-script-location.\n"
     ]
    }
   ],
   "source": [
    "!pip install keras.tuner"
   ]
  },
  {
   "cell_type": "code",
   "execution_count": 6,
   "id": "3d0a5134",
   "metadata": {},
   "outputs": [],
   "source": [
    "import tensorflow as tf\n",
    "from tensorflow import keras\n",
    "import numpy as np"
   ]
  },
  {
   "cell_type": "code",
   "execution_count": 7,
   "id": "4fb00f58",
   "metadata": {},
   "outputs": [
    {
     "name": "stdout",
     "output_type": "stream",
     "text": [
      "2.14.0\n"
     ]
    }
   ],
   "source": [
    "print(tf.__version__)"
   ]
  },
  {
   "cell_type": "code",
   "execution_count": 8,
   "id": "10874316",
   "metadata": {},
   "outputs": [],
   "source": [
    "fashion_mnist = keras.datasets.fashion_mnist"
   ]
  },
  {
   "cell_type": "code",
   "execution_count": 9,
   "id": "fd4b6a8e",
   "metadata": {},
   "outputs": [],
   "source": [
    "(train_images,train_labels),(test_images,test_labels)=fashion_mnist.load_data()"
   ]
  },
  {
   "cell_type": "code",
   "execution_count": 10,
   "id": "427aa7b9",
   "metadata": {},
   "outputs": [],
   "source": [
    "train_images = train_images/255.0\n",
    "test_images = test_images/255.0"
   ]
  },
  {
   "cell_type": "code",
   "execution_count": 11,
   "id": "b393eb9e",
   "metadata": {},
   "outputs": [
    {
     "data": {
      "text/plain": [
       "(28, 28)"
      ]
     },
     "execution_count": 11,
     "metadata": {},
     "output_type": "execute_result"
    }
   ],
   "source": [
    "train_images[0].shape"
   ]
  },
  {
   "cell_type": "code",
   "execution_count": 12,
   "id": "c8a71143",
   "metadata": {},
   "outputs": [],
   "source": [
    "train_images =train_images.reshape(len(train_images),28,28,1)\n",
    "test_images =test_images.reshape(len(test_images),28,28,1)"
   ]
  },
  {
   "cell_type": "code",
   "execution_count": 56,
   "id": "a598e12d",
   "metadata": {},
   "outputs": [],
   "source": [
    "def build_model(hp):\n",
    "    model = keras.Sequential([keras.layers.Conv2D(filters=hp.Int('conv_1_filter',min_value=32,max_value=120,step=16),\n",
    "                              kernel_size=hp.Choice('conv_1_kernel',values=[3,5]),activation='relu',input_shape=[28,28,1]),\n",
    "                              keras.layers.Conv2D(filters=hp.Int('conv_2_filter',min_value=32,max_value=64,step=16),kernel_size=hp.Choice('conv_2_kernel',values=[3,5]),activation='relu'),\n",
    "                              keras.layers.Flatten(),\n",
    "                              keras.layers.Dense(units=hp.Int('dense_1_units',min_value=32,max_value=120,step=16),activation='relu'),\n",
    "                              keras.layers.Dense(10,activation='softmax')])\n",
    "                              \n",
    "    model.compile(optimizer=keras.optimizers.Adam(hp.Choice('learning_rate',values=[1e-2,1e-3])),loss='sparse_categorical_crossentropy',metrics=['accuracy'])\n",
    "    return model"
   ]
  },
  {
   "cell_type": "code",
   "execution_count": 57,
   "id": "400c4252",
   "metadata": {},
   "outputs": [],
   "source": [
    "from kerastuner import RandomSearch\n",
    "from kerastuner.engine.hyperparameters import HyperParameter"
   ]
  },
  {
   "cell_type": "code",
   "execution_count": 58,
   "id": "c9fe8789",
   "metadata": {},
   "outputs": [
    {
     "name": "stdout",
     "output_type": "stream",
     "text": [
      "Reloading Tuner from output\\Mnist Fashion\\tuner0.json\n"
     ]
    }
   ],
   "source": [
    "tuner_search = RandomSearch(build_model,\n",
    "                           objective='val_accuracy',\n",
    "                           max_trials=5,\n",
    "                           directory='output',\n",
    "                           project_name=\"Mnist Fashion\")"
   ]
  },
  {
   "cell_type": "code",
   "execution_count": 59,
   "id": "3f955364",
   "metadata": {},
   "outputs": [
    {
     "name": "stdout",
     "output_type": "stream",
     "text": [
      "Trial 5 Complete [00h 08m 28s]\n",
      "val_accuracy: 0.9086666703224182\n",
      "\n",
      "Best val_accuracy So Far: 0.9136666655540466\n",
      "Total elapsed time: 00h 37m 35s\n"
     ]
    }
   ],
   "source": [
    "tuner_search.search(train_images,train_labels,epochs=3,validation_split=0.1)"
   ]
  },
  {
   "cell_type": "code",
   "execution_count": 62,
   "id": "bc4a3c73",
   "metadata": {},
   "outputs": [],
   "source": [
    "model=tuner_search.get_best_models(num_models=1)[0]"
   ]
  },
  {
   "cell_type": "code",
   "execution_count": 63,
   "id": "633ad560",
   "metadata": {},
   "outputs": [
    {
     "name": "stdout",
     "output_type": "stream",
     "text": [
      "Model: \"sequential\"\n",
      "_________________________________________________________________\n",
      " Layer (type)                Output Shape              Param #   \n",
      "=================================================================\n",
      " conv2d (Conv2D)             (None, 26, 26, 96)        960       \n",
      "                                                                 \n",
      " conv2d_1 (Conv2D)           (None, 24, 24, 32)        27680     \n",
      "                                                                 \n",
      " flatten (Flatten)           (None, 18432)             0         \n",
      "                                                                 \n",
      " dense (Dense)               (None, 96)                1769568   \n",
      "                                                                 \n",
      " dense_1 (Dense)             (None, 10)                970       \n",
      "                                                                 \n",
      "=================================================================\n",
      "Total params: 1799178 (6.86 MB)\n",
      "Trainable params: 1799178 (6.86 MB)\n",
      "Non-trainable params: 0 (0.00 Byte)\n",
      "_________________________________________________________________\n"
     ]
    }
   ],
   "source": [
    "model.summary()"
   ]
  },
  {
   "cell_type": "code",
   "execution_count": 65,
   "id": "cd3c0f6a",
   "metadata": {},
   "outputs": [
    {
     "name": "stdout",
     "output_type": "stream",
     "text": [
      "Epoch 4/10\n",
      "1688/1688 [==============================] - 183s 108ms/step - loss: 0.1274 - accuracy: 0.9525 - val_loss: 0.2613 - val_accuracy: 0.9122\n",
      "Epoch 5/10\n",
      "1688/1688 [==============================] - 179s 106ms/step - loss: 0.0859 - accuracy: 0.9678 - val_loss: 0.3183 - val_accuracy: 0.9087\n",
      "Epoch 6/10\n",
      "1688/1688 [==============================] - 172s 102ms/step - loss: 0.0617 - accuracy: 0.9777 - val_loss: 0.3550 - val_accuracy: 0.9105\n",
      "Epoch 7/10\n",
      "1688/1688 [==============================] - 189s 112ms/step - loss: 0.0451 - accuracy: 0.9841 - val_loss: 0.4234 - val_accuracy: 0.9070\n",
      "Epoch 8/10\n",
      "1688/1688 [==============================] - 172s 102ms/step - loss: 0.0304 - accuracy: 0.9894 - val_loss: 0.4283 - val_accuracy: 0.9133\n",
      "Epoch 9/10\n",
      "1688/1688 [==============================] - 165s 98ms/step - loss: 0.0244 - accuracy: 0.9910 - val_loss: 0.5030 - val_accuracy: 0.9128\n",
      "Epoch 10/10\n",
      "1688/1688 [==============================] - 180s 106ms/step - loss: 0.0236 - accuracy: 0.9921 - val_loss: 0.5510 - val_accuracy: 0.9128\n"
     ]
    },
    {
     "data": {
      "text/plain": [
       "<keras.src.callbacks.History at 0x2855220be50>"
      ]
     },
     "execution_count": 65,
     "metadata": {},
     "output_type": "execute_result"
    }
   ],
   "source": [
    "model.fit(train_images,train_labels,epochs=10,validation_split=0.1,initial_epoch=3)"
   ]
  },
  {
   "cell_type": "code",
   "execution_count": null,
   "id": "23e74418",
   "metadata": {},
   "outputs": [],
   "source": []
  }
 ],
 "metadata": {
  "kernelspec": {
   "display_name": "Python 3 (ipykernel)",
   "language": "python",
   "name": "python3"
  },
  "language_info": {
   "codemirror_mode": {
    "name": "ipython",
    "version": 3
   },
   "file_extension": ".py",
   "mimetype": "text/x-python",
   "name": "python",
   "nbconvert_exporter": "python",
   "pygments_lexer": "ipython3",
   "version": "3.10.9"
  }
 },
 "nbformat": 4,
 "nbformat_minor": 5
}
